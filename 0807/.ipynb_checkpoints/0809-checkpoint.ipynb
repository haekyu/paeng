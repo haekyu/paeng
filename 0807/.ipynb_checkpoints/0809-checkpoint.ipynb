{
 "cells": [
  {
   "cell_type": "markdown",
   "metadata": {},
   "source": [
    "## 1. Loop\n",
    "- 여러 일을 반복해야할 때 사용!\n",
    "- iteration = 반복의 한 바퀴\n",
    "- iterator = iteration의 매개변수\n",
    "- while문\n",
    "    - 형식\n",
    "        ```python\n",
    "        while 조건:\n",
    "            어쩌고\n",
    "            저쩌고\n",
    "            .....\n",
    "        ```\n",
    "    - 의미: 조건을 만족할 때 까지 '어쩌고', '저쩌고', '.....' 을 계속 해라.\n",
    "    - 예)\n",
    "        ```python\n",
    "        n = 1\n",
    "        while n <= 3:\n",
    "            print(n)\n",
    "            n = n + 1\n",
    "        ```\n",
    "        출력 결과\n",
    "        ```\n",
    "        1\n",
    "        2\n",
    "        3\n",
    "        ```\n",
    "- for문\n",
    "    - while 문과 다르게, for문은 iterator가 앞으로 어떻게 변해야 할지 그 sequence가 미리 정해져있음.\n",
    "    - 형식\n",
    "        ```python\n",
    "        for 이터레이터 in 이터레이터의 시퀀스:\n",
    "            어쩌고\n",
    "            저쩌고\n",
    "            .....\n",
    "        ```\n",
    "    - 의미\n",
    "        - 이터레이터가 시퀀스[0] 일 때 어쩌고 저쩌고 ... 을 하고\n",
    "        - 이터레이터가 시퀀스[1] 일 때 어쩌고 저쩌고 ... 을 하고\n",
    "        - ...\n",
    "        - 이터레이터가 시퀀스[-1] 일 때 어쩌고 저쩌고 ... 을 해라\n",
    "    - 예1)\n",
    "        ```python\n",
    "        sentence = 'I am a boy you are a girl'\n",
    "        words = sentence.split()\n",
    "\n",
    "        for word in words:\n",
    "            print(word)\n",
    "        ```\n",
    "        출력 결과\n",
    "        ```\n",
    "        I\n",
    "        am\n",
    "        a\n",
    "        boy\n",
    "        you\n",
    "        are\n",
    "        a\n",
    "        girl\n",
    "        ```\n",
    "    - **변형1: `range()`와 함께 사용**\n",
    "        - lst가 sequential한 숫자들일 때, range를 사용하면 편하다.\n",
    "        - 예를 들어 [1, 2, 3, 4, ..., 100] 을 일일이 타이핑할 수 없으니 range()를 사용하면 좋다.\n",
    "        - `range(from, to, step)`\n",
    "            - from 부터 to 까지 step 사이즈만큼 늘려가며 숫자의 sequence를 만든다.\n",
    "            - 예)\n",
    "                ```python\n",
    "                >>> evens_range = range(0, 10, 2)\n",
    "                >>> evens_lst = list(evens_range)\n",
    "                >>> evens_lst\n",
    "                [0, 2, 4, 6, 8]\n",
    "                ```\n",
    "        - `range(from, to)`\n",
    "            - from 부터 to 까지 1씩 늘려가며 숫자의 sequence를 만든다. (step = 1 이 default)\n",
    "            - 예)\n",
    "                ```python\n",
    "                >>> one_digit_range = range(0, 10)\n",
    "                >>> one_digit_lst = list(one_digit_range)\n",
    "                >>> one_digit_lst\n",
    "                [0, 1, 2, 3, 4, 5, 6, 7, 8, 9]\n",
    "                ```\n",
    "        - `range(to)`: 0 부터 to 까지 1씩 늘려가며 숫자의 sequence를 만든다. (from = 0, step = 1 이 default)\n",
    "            - 예)\n",
    "                ```python\n",
    "                >>> one_digit_range = range(10)\n",
    "                >>> one_digit_lst = list(one_digit_range)\n",
    "                >>> one_digit_lst\n",
    "                [0, 1, 2, 3, 4, 5, 6, 7, 8, 9]\n",
    "                ```\n",
    "    - **변형2: `enumerate`와 함께 사용**\n",
    "        - lst의 각 원소뿐 아니라, 그 원소의 index까지 한꺼번에 동시에 알고싶을 때 enumerate 사용\n",
    "        - 형식\n",
    "            ```python\n",
    "            for index, element in lst:\n",
    "                # 여기서 element는 lst의 각 원소\n",
    "                # 여기서 index는 element의 index\n",
    "                # 물론 index, element 대신 다른 이름의 변수를 써도 무방\n",
    "\n",
    "                do1\n",
    "                do2\n",
    "                ...\n",
    "            ```       \n",
    "    - **변형3: `zip`과 함께 사용**\n",
    "        - lst 여러 개를 동시에 돌리고 싶을 때 zip 사용\n",
    "        - 형식\n",
    "            ```python\n",
    "            for e1, e2, e3, ... in zip(lst1, lst2, lst3, ...):\n",
    "                # 여기서 e1은 lst1의 원소\n",
    "                # 여기서 e2은 lst2의 원소\n",
    "                # 여기서 e3은 lst3의 원소\n",
    "                # 이 때, e1, e2, e3의 index는 동시에 parallel하게 넘어간다.\n",
    "\n",
    "                do1\n",
    "                do2\n",
    "                ...\n",
    "            ```\n",
    "- Loop 제어\n",
    "    - continue\n",
    "        - continue 를 만나면 바로 다음 iteration 으로 skip 한다\n",
    "    - break\n",
    "        - break 를 만나면 loop를 아예 끝낸다"
   ]
  },
  {
   "cell_type": "code",
   "execution_count": 56,
   "metadata": {},
   "outputs": [
    {
     "name": "stdout",
     "output_type": "stream",
     "text": [
      "0 번째 원소 = a\n",
      "1 번째 원소 = b\n",
      "2 번째 원소 = c\n"
     ]
    }
   ],
   "source": [
    "# enumerate 예시\n",
    "\n",
    "lst = ['a', 'b', 'c']\n",
    "for index, element in enumerate(lst):\n",
    "    print('{} 번째 원소 = {}'.format(index, element))"
   ]
  },
  {
   "cell_type": "code",
   "execution_count": 55,
   "metadata": {},
   "outputs": [
    {
     "name": "stdout",
     "output_type": "stream",
     "text": [
      "[[1, 2, 3], [4, 5, 6]]\n"
     ]
    }
   ],
   "source": [
    "# zip 예시 -- sparse matrix to dense matrix\n",
    "\n",
    "rows = [0, 0, 0, 1, 1, 1]\n",
    "cols = [0, 1, 2, 0, 1, 2]\n",
    "vals = [1, 2, 3, 4, 5, 6]\n",
    "\n",
    "mat = [[0, 0, 0], [0, 0, 0]]\n",
    "\n",
    "for row, col, val in zip(rows, cols, vals):\n",
    "    mat[row][col] = val\n",
    "\n",
    "print(mat)"
   ]
  },
  {
   "cell_type": "code",
   "execution_count": 60,
   "metadata": {},
   "outputs": [
    {
     "name": "stdout",
     "output_type": "stream",
     "text": [
      "0\n",
      "1\n",
      "2\n",
      "4\n"
     ]
    }
   ],
   "source": [
    "# continue 예시\n",
    "\n",
    "for i in range(5):\n",
    "    if i == 3:\n",
    "        continue\n",
    "    print(i)"
   ]
  },
  {
   "cell_type": "markdown",
   "metadata": {},
   "source": [
    "## 2. Dict 딕셔너리\n",
    "- 검색을 위한 자료구조 / 검색이 엄청 빠름\n",
    "- (검색어: 값) 매핑을 저장한 자료구조\n",
    "    - 검색어는 key, 값은 value라고 부른다.\n",
    "- 만드는 방법\n",
    "    - 중괄호 {}로 묶어줌\n",
    "    - (key: value) 맵핑들을 쉼표(,)로 구분하여 나열\n",
    "    - 예)\n",
    "        ```python\n",
    "        profiles = {'철수': 1, '영희': 2, '영수': 3}\n",
    "        ```\n",
    "- 검색하기\n",
    "    - key를 대괄호 안에 넣어주면 해당 value가 나옴\n",
    "    - `딕셔너리[key]`\n",
    "    - 예)\n",
    "        ```python\n",
    "        age_of_chulsoo = profiles['철수']\n",
    "        print(age_of_chulsoo)\n",
    "        ```\n",
    "        출력 결과\n",
    "        ```\n",
    "        1\n",
    "        ```\n",
    "- 추가하기 / 수정하기 (맵핑하기)\n",
    "    - 기존 dictionary에 맵핑을 추가하거나 수정할 수 있다.\n",
    "    - `딕셔너리[key] = val`\n",
    "    - 예)\n",
    "        ```python\n",
    "        profiles['가나다'] = 4 # 맵핑 추가\n",
    "        profiles['철수'] = 5 # 기존 맵핑 수정\n",
    "        print(profiles)\n",
    "        ```\n",
    "        출력 결과\n",
    "        ```\n",
    "        {'가나다': 4, '영수': 3, '영희': 2, '철수': 5}\n",
    "        ```\n",
    "- 제거하기\n",
    "    - `del 딕셔너리[key]`\n",
    "- key들 얻기\n",
    "    - `딕셔너리.keys()`\n",
    "    - 예1)\n",
    "        ```python\n",
    "        print(profiles.keys())\n",
    "        ```\n",
    "        출력 결과\n",
    "        ```\n",
    "        dict_keys(['가나다', '영수', '영희', '철수'])\n",
    "        ```\n",
    "    - 예2) 검색 전, key가 있는지 확인. (다른 언어에서는 contains 라는 함수가 따로 구현되어있음.)\n",
    "        ```python\n",
    "        my_keyword = '안녕'\n",
    "        if my_keyword in profiles.keys():\n",
    "            v = profiles[my_keyword]\n",
    "            print('%s: %s' % (my_keyword, v))\n",
    "        else:\n",
    "            print('ERR: no %s in the dictionary' % my_keyword)\n",
    "        ```\n",
    "        출력 결과\n",
    "        ```\n",
    "        ERR: no 안녕 in the dictionary\n",
    "        ```\n",
    "- value들 얻기\n",
    "    - `딕셔너리.values()`\n",
    "    - 예)\n",
    "        ```python\n",
    "        print(profiles.values())\n",
    "        ```\n",
    "        출력 결과\n",
    "        ```\n",
    "        dict_values([4, 3, 2, 5])\n",
    "        ```"
   ]
  },
  {
   "cell_type": "code",
   "execution_count": 59,
   "metadata": {},
   "outputs": [
    {
     "name": "stdout",
     "output_type": "stream",
     "text": [
      "{'apple': 'red', 'orange': 'orange'}\n",
      "{'apple': 'red', 'orange': 'orange'}\n",
      "{'apple': 'red', 'orange': 'orange', 'pineapple': 'yellow'}\n",
      "{'apple': 'pink', 'orange': 'orange', 'pineapple': 'yellow'}\n",
      "{'orange': 'orange', 'pineapple': 'yellow'}\n"
     ]
    }
   ],
   "source": [
    "# Dictionary 예시 -- 기본\n",
    "\n",
    "# Dictionary 초기화\n",
    "fruit_color_dict = {'apple': 'red', 'orange': 'orange'}\n",
    "print(fruit_color_dict)\n",
    "\n",
    "# 검색\n",
    "fruit_color_dict['apple']\n",
    "print(fruit_color_dict)\n",
    "\n",
    "# 추가\n",
    "fruit_color_dict['pineapple'] = 'yellow'\n",
    "print(fruit_color_dict)\n",
    "\n",
    "# 수정\n",
    "fruit_color_dict['apple'] = 'pink'\n",
    "print(fruit_color_dict)\n",
    "\n",
    "# 제거\n",
    "del fruit_color_dict['apple']\n",
    "\n",
    "print(fruit_color_dict)"
   ]
  },
  {
   "cell_type": "code",
   "execution_count": 57,
   "metadata": {},
   "outputs": [
    {
     "name": "stdout",
     "output_type": "stream",
     "text": [
      "{1: True, 2: True, 4: True, 5: True, 10: True, 20: True}\n",
      "dict_keys([1, 2, 4, 5, 10, 20])\n",
      "[1, 2, 4, 5, 10, 20]\n"
     ]
    }
   ],
   "source": [
    "# Dictionary 예시 -- 20의 약수들 모으기\n",
    "\n",
    "factors_20 = {}\n",
    "\n",
    "for i in range(1, 21):\n",
    "    if 20 % i == 0:\n",
    "        factors_20[i] = True\n",
    "    \n",
    "print(factors_20)\n",
    "print(factors_20.keys())\n",
    "print(list(factors_20.keys()))"
   ]
  },
  {
   "cell_type": "markdown",
   "metadata": {},
   "source": [
    "## 3. 기타\n",
    "- 시간 측정하기\n",
    "    - time library 안에 있는 time() 함수 사용\n",
    "    - time() 함수는 현재 시간을 기록\n",
    "    - 특정 코드 블락의 수행시간을 측정할 때, 수행 전과 후의 현재 시간을 기록한 뒤 그 차이를 계산.\n",
    "    - 예1)\n",
    "        ```python\n",
    "        import time\n",
    "\n",
    "        start_time = time.time()\n",
    "    \n",
    "        어쩌고저쩌고\n",
    "\n",
    "        end_time = time.time()\n",
    "\n",
    "        elapsed_time = end_time - start_time\n",
    "        ```\n",
    "    - 예2)\n",
    "        ```python\n",
    "        from time import time\n",
    "\n",
    "        start_time = time()\n",
    "\n",
    "        어쩌고저쩌고\n",
    "        \n",
    "        end_time = time()\n",
    "\n",
    "        elapsed_time = end_time - start_time\n",
    "        print(elapsed_time)\n",
    "        ```"
   ]
  },
  {
   "cell_type": "markdown",
   "metadata": {},
   "source": [
    "## 4. 함수\n",
    "\n",
    "- 함수 만들기 (define 하기)\n",
    "    ```python\n",
    "    def 함수이름(인풋1, 인풋2, ...):\n",
    "        어쩌고\n",
    "        저쩌고\n",
    "        ...\n",
    "        return 아웃풋1, 아웃풋2, 아웃풋3, ...\n",
    "    ```\n",
    "- 함수 사용하기 (call 하기)\n",
    "    ```python\n",
    "    아웃풋1, 아웃풋2, 아웃풋3, ... = 함수이름(인풋1, 인풋2, ...)\n",
    "    ```\n",
    "- 예)\n",
    "    ```python\n",
    "    # Define\n",
    "    def sigma_sum(start, end):\n",
    "        s = 0\n",
    "        for n in range(start, end + 1):\n",
    "            s = s + n\n",
    "        return s\n",
    "\n",
    "    # Call\n",
    "    sum_1_to_10 = sigma_sum(1, 10)\n",
    "    print(sum_1_to_10)\n",
    "    ```\n",
    "    출력 결과\n",
    "    ```\n",
    "    55\n",
    "    ```"
   ]
  },
  {
   "cell_type": "code",
   "execution_count": null,
   "metadata": {},
   "outputs": [],
   "source": [
    "# 기본 1: 파일 객체\n",
    "# 파일 객체를 만들어 파일 라인별로 읽기\n",
    "\n",
    "# 파일 객체를 만들어 라인별로 쓰기\n",
    "\n",
    "f = open(파일 경로, 옵션)\n",
    "# 옵션 ='r', 'w', 'a'\n",
    "\n",
    "\n",
    "# 파일 경로\n",
    "- 절대 경로\n",
    "    - 'C:/asdf/as/asdf/asdfas/dfas/dfas/dfs/adf'\n",
    "    - '/Users/haekyu/Desktop/d1/d12/d121/happy.txt'\n",
    "- 상대 경로\n",
    "    - 내 위치를 기준으로 ...\n",
    "    - .: 내 위치\n",
    "    - ..: 내 상위 경로\n",
    "\n",
    "f = read()\n",
    "\n",
    "f.write(fasdfadfaasdfsa)\n",
    "\n",
    "f.close() # XXXXXXX"
   ]
  },
  {
   "cell_type": "code",
   "execution_count": 53,
   "metadata": {},
   "outputs": [],
   "source": [
    "# f = open('/Users/haekyu/Desktop/d1/d12/d121/happy.txt', 'r')\n",
    "f = open('/Users/haekyu/Desktop/d1/d12/d121/happy.txt', 'w')\n",
    "# lst = f.readlines()\n",
    "# print(lst)\n",
    "# while True: 10\n",
    "#     line = f.readline()\n",
    "#     print(line)\n",
    "#     if line == '':\n",
    "#         break\n",
    "# f.write('.....\\n')\n",
    "# f.write('sfsf')\n",
    "# f.write('\\n')\n",
    "# f.write('wq34werasdfza')\n",
    "f.write('append1\\n')\n",
    "f.write('append2\\n')\n",
    "f.close()\n",
    "\n"
   ]
  },
  {
   "cell_type": "code",
   "execution_count": null,
   "metadata": {},
   "outputs": [],
   "source": [
    "함수: 인풋, 인풋, 인풋, ... --> 아웃풋, 아웃풋, 아웃풋, ..\n",
    "\n",
    "f(x) = 2x\n",
    "\n",
    "def 함수이름(in, in, in):\n",
    "    ㅁㄴㅇ\n",
    "    ㄹㅁㄴㅇ\n",
    "    ㄹㅁㄴㅇ\n",
    "    ㄹㅁㄴㅇㄹ\n",
    "    ㅁㄴㅇㄹ\n",
    "    return out, out, out "
   ]
  },
  {
   "cell_type": "code",
   "execution_count": 27,
   "metadata": {},
   "outputs": [],
   "source": [
    "# f(x) = 2x\n",
    "global variable local variable\n",
    "\n",
    "def f(x):\n",
    "    asdf\n",
    "    asdf"
   ]
  },
  {
   "cell_type": "code",
   "execution_count": 28,
   "metadata": {},
   "outputs": [
    {
     "data": {
      "text/plain": [
       "16"
      ]
     },
     "execution_count": 28,
     "metadata": {},
     "output_type": "execute_result"
    }
   ],
   "source": [
    "print(f(8))\n",
    "y = f(8)\n",
    "print(y)"
   ]
  },
  {
   "cell_type": "code",
   "execution_count": null,
   "metadata": {},
   "outputs": [],
   "source": [
    "함수 이름: factor_20\n",
    "인풋: 없음\n",
    "아웃풋: 20의 약수들의 리스트"
   ]
  },
  {
   "cell_type": "code",
   "execution_count": null,
   "metadata": {},
   "outputs": [],
   "source": [
    "함수 이름: factor_n\n",
    "인풋: n\n",
    "아웃풋: n의 약수들의 리스트"
   ]
  },
  {
   "cell_type": "code",
   "execution_count": null,
   "metadata": {},
   "outputs": [],
   "source": [
    "parameter\n",
    "default parameter"
   ]
  },
  {
   "cell_type": "code",
   "execution_count": 29,
   "metadata": {},
   "outputs": [],
   "source": [
    "def f(x, y, z=100):\n",
    "    return x + y + z"
   ]
  },
  {
   "cell_type": "code",
   "execution_count": 31,
   "metadata": {},
   "outputs": [
    {
     "name": "stdout",
     "output_type": "stream",
     "text": [
      "6\n",
      "103\n"
     ]
    }
   ],
   "source": [
    "print(f(1, 2, 3))\n",
    "print(f(1, 2))"
   ]
  },
  {
   "cell_type": "code",
   "execution_count": null,
   "metadata": {},
   "outputs": [],
   "source": [
    "break\n",
    "\n",
    "continue"
   ]
  },
  {
   "cell_type": "code",
   "execution_count": 34,
   "metadata": {},
   "outputs": [
    {
     "name": "stdout",
     "output_type": "stream",
     "text": [
      "0\n",
      "1\n",
      "2\n",
      "3\n",
      "4\n",
      "5\n",
      "6\n",
      "7\n",
      "8\n",
      "9\n",
      "11\n",
      "12\n",
      "13\n",
      "14\n"
     ]
    }
   ],
   "source": [
    "for i in range(15):\n",
    "\n",
    "    if i == 10:\n",
    "        continue\n",
    "    print(i)"
   ]
  }
 ],
 "metadata": {
  "kernelspec": {
   "display_name": "Python 3",
   "language": "python",
   "name": "python3"
  },
  "language_info": {
   "codemirror_mode": {
    "name": "ipython",
    "version": 3
   },
   "file_extension": ".py",
   "mimetype": "text/x-python",
   "name": "python",
   "nbconvert_exporter": "python",
   "pygments_lexer": "ipython3",
   "version": "3.6.7"
  }
 },
 "nbformat": 4,
 "nbformat_minor": 2
}
