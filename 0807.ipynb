{
 "cells": [
  {
   "cell_type": "markdown",
   "metadata": {},
   "source": [
    "## mindset\n",
    "- Data + 처리\n",
    "- Data\n",
    "    - Primitive data type\n",
    "    - Series data type\n",
    "    - (중요) Hash table (dictionary)\n",
    "    - 나만의 데이터 타입 정의 (class)\n",
    "- 처리\n",
    "    - 기본 연산\n",
    "    - 조건문 \n",
    "    - loop\n",
    "    - 함수\n",
    "    - (optional) library (numpy / pandas / ...)"
   ]
  },
  {
   "cell_type": "markdown",
   "metadata": {},
   "source": [
    "## linux command\n",
    "## git"
   ]
  },
  {
   "cell_type": "markdown",
   "metadata": {},
   "source": [
    "- language 컴개실 / 프연\n",
    "- data structure\n",
    "- 세부 전공 machine learning / ...."
   ]
  },
  {
   "cell_type": "markdown",
   "metadata": {},
   "source": [
    "### Primitive data type\n",
    "- 숫자\n",
    "    - 정수 (integer)\n",
    "        - 1, 2, 3, 0, -3\n",
    "    - 소수 (실수, float)\n",
    "        - 2.1234, 3.14, -0.324, 0.0, 3 / 4\n",
    "- 문자\n",
    "    - 스트링 (string, str)\n",
    "    - \"abc\", \"ABC\", \"234s\", \"-333\"\n",
    "    - 'abc', \"ABC\", \"234s\", \"-333\"\n",
    "    - \"\"\"abc\"\"\"\n",
    "    - \\\n",
    "- 참/거짓 (boolean, bool)\n",
    "    - True == 1\n",
    "    - False == 0"
   ]
  },
  {
   "cell_type": "code",
   "execution_count": 30,
   "metadata": {},
   "outputs": [
    {
     "data": {
      "text/plain": [
       "\"haekyu's cat\""
      ]
     },
     "execution_count": 30,
     "metadata": {},
     "output_type": "execute_result"
    }
   ],
   "source": [
    "'haekyu\\'s cat'"
   ]
  },
  {
   "cell_type": "markdown",
   "metadata": {},
   "source": [
    "### Primitive data type의 기본 연산\n",
    "\n",
    "- 숫자\n",
    "    - 사칙연산 + - * /\n",
    "    - a % b 나머지\n",
    "    - a // b 몫\n",
    "    - 3 ** 2\n",
    "- 문자\n",
    "    - + (concatenate)\n",
    "    - *\n",
    "    - len(\"abc\")\n",
    "    - membership\n",
    "        - 'ac' in 'abc'\n",
    "        - not in\n",
    "            - not ('ac' in 'abc')\n",
    "- bool\n",
    "    - not\n",
    "    - and (교집합, *)\n",
    "        - True and True = T \n",
    "        - True and False = F\n",
    "        - False and True = F \n",
    "        - False and False = F\n",
    "    - or (합집합, +)\n",
    "        - True or True = T\n",
    "        - True or False = T\n",
    "        - False or True = T\n",
    "        - False or False = F\n",
    "- 비교 연산\n",
    "    - ==\n",
    "        - =: x = 3 (assign)\n",
    "    - !=\n",
    "    - \\>\n",
    "    - <\n",
    "    - \\>=\n",
    "    - <=\n",
    "- 형 변환\n",
    "    - 1 --> '1' \n",
    "    - '1' --> 1\n",
    "    - 1 --> 1.0\n",
    "    - str(1)\n",
    "    - int('1')\n",
    "    - float(1)\n",
    "- string formatting\n",
    "    - '2019-08-07' => 'yyyy-mm-dd'\n",
    "    - %02d == int\n",
    "    - %.2lf == float\n",
    "    - %s == string\n",
    "    - %b == bool\n",
    "    - '%d-%d-%d' % (2019, 8, 7)\n",
    "- format\n",
    "    - '{}-{}-{}'.format(2019, 8, 7)\n",
    "    - print('x={}, y={}, z={}'.format(x, y, z))"
   ]
  },
  {
   "cell_type": "code",
   "execution_count": 6,
   "metadata": {},
   "outputs": [
    {
     "data": {
      "text/plain": [
       "True"
      ]
     },
     "execution_count": 6,
     "metadata": {},
     "output_type": "execute_result"
    }
   ],
   "source": [
    "'a' < 'abc'"
   ]
  },
  {
   "cell_type": "code",
   "execution_count": 9,
   "metadata": {},
   "outputs": [
    {
     "data": {
      "text/plain": [
       "True"
      ]
     },
     "execution_count": 9,
     "metadata": {},
     "output_type": "execute_result"
    }
   ],
   "source": [
    "'abc' <= 'b'"
   ]
  },
  {
   "cell_type": "code",
   "execution_count": 10,
   "metadata": {},
   "outputs": [
    {
     "data": {
      "text/plain": [
       "True"
      ]
     },
     "execution_count": 10,
     "metadata": {},
     "output_type": "execute_result"
    }
   ],
   "source": [
    "True > False"
   ]
  },
  {
   "cell_type": "code",
   "execution_count": 12,
   "metadata": {},
   "outputs": [
    {
     "data": {
      "text/plain": [
       "'2019-012-07'"
      ]
     },
     "execution_count": 12,
     "metadata": {},
     "output_type": "execute_result"
    }
   ],
   "source": [
    "'%d-0%d-0%d' % (2019, 12, 7)"
   ]
  },
  {
   "cell_type": "code",
   "execution_count": null,
   "metadata": {},
   "outputs": [],
   "source": [
    "3.141592 --> '3.14' --> 3.14"
   ]
  },
  {
   "cell_type": "code",
   "execution_count": null,
   "metadata": {},
   "outputs": [],
   "source": [
    "x=2\n",
    "y=3\n",
    "z=4"
   ]
  },
  {
   "cell_type": "markdown",
   "metadata": {},
   "source": [
    "### Series data type\n",
    "- 여러개 순서대로\n",
    "- list\n",
    "    - 1 2 3 4\n",
    "    - [1, 2, 3, 4]\n",
    "    - len([1, 2, 3, 4])\n",
    "    - 번째 == index\n",
    "        - indexing\n",
    "            - index --> 그 index 번째의 원소를 추출/수정\n",
    "            - lst = [1, 2, 3, 4]\n",
    "            - lst[-1]\n",
    "            - lst[-1] = 5\n",
    "        - slicing\n",
    "            - index의 range --> 그 범위의 (여러개의) 원소들을 추출\n",
    "            - lst[from_idx 이상: to_idx 미만]\n",
    "            - lst[0: 2] = []\n",
    "            - lst[4: 5] = []\n",
    "            - lst[: to_idx]\n",
    "            - lst[from_idx: ]\n",
    "            - lst[:]\n",
    "    - append \n",
    "        - 어떤 리스트에다가 어떤 원소를 \"뒤에다가\" 붙이기\n",
    "        - `lst.append(element)`\n",
    "        - `(X) lst = lst.append(element)`\n",
    "    - insert\n",
    "        - 특정 위치에, 어떤 원소를 넣기\n",
    "        - lst.insert(index, element)\n",
    "    - remove\n",
    "        - 특정 위치의 원소 지우기\n",
    "        - lst.remove(element)\n",
    "    - del lst[0]\n",
    "        - garbage collector\n",
    "- tuple\n",
    "    - tp = (1, 2, 3, 4)\n",
    "    - 수정 안됨\n",
    "- cf) set (집합)\n",
    "    - 여러개, 순서 상관 없이\n",
    "    - {3, 2, 1, 4}"
   ]
  },
  {
   "cell_type": "markdown",
   "metadata": {},
   "source": [
    "### list vs. string\n",
    "- 문자\n",
    "    - string\n",
    "        - \"ahsdjlfhaiuw\"\n",
    "    - char (character)\n",
    "        - 'a', 'b', 'c'\n",
    "- +\n",
    "    - [1, 2, 3] + ['a', 'b', 'c']\n",
    "- *\n",
    "    - [1, 2, 3] * ?\n",
    "- membership\n",
    "    - 1 in [1, 2, 3]\n",
    "    - [1, 2] in [1, 2, 3] --> False"
   ]
  },
  {
   "cell_type": "code",
   "execution_count": 18,
   "metadata": {},
   "outputs": [
    {
     "name": "stdout",
     "output_type": "stream",
     "text": [
      "[1, 2, 3, 4, 5, 6, 7, 8, 9]\n"
     ]
    }
   ],
   "source": [
    "lst = [1, 2, 3, 4, 5, 6, 7, 8]\n",
    "# lst[-3: -1] \n",
    "# lst[0: 6: 2]\n",
    "lst.append(9)\n",
    "print(lst)"
   ]
  },
  {
   "cell_type": "code",
   "execution_count": null,
   "metadata": {},
   "outputs": [],
   "source": [
    "# result = []\n",
    "\n",
    "# for element in total_data_lst:\n",
    "#     if element가 어떤 조건을 만족하면:\n",
    "#         result.append(element)"
   ]
  },
  {
   "cell_type": "markdown",
   "metadata": {},
   "source": [
    "### 변수\n",
    "- = (assign)\n",
    "    - x = 3\n",
    "- 변수의 이름 짓기\n",
    "    - 영어\n",
    "    - 숫자\n",
    "        - 숫자로 시작하면 안됨\n",
    "    - _\n",
    "        - 시작은 가능, 하지만 시작하지 말자\n",
    "        - keyword(예약어)랑 충돌 가능성\n",
    "    - 한글 (비추)\n",
    "    - naming sense\n",
    "        - 딱 보면 뭔지 알도록\n",
    "\n",
    "### 주석\n",
    "- 앞에 #\n",
    "- ''' ㄴㅇㄹㄴㅇㄹㅇㄴ '''\n",
    "- \"\"\" ㄴㅇㄹㄴㅇㄹㄴㅇㄹ \"\"\""
   ]
  },
  {
   "cell_type": "code",
   "execution_count": 22,
   "metadata": {},
   "outputs": [
    {
     "data": {
      "text/plain": [
       "6"
      ]
     },
     "execution_count": 22,
     "metadata": {},
     "output_type": "execute_result"
    }
   ],
   "source": [
    "# 3의 개수\n",
    "num_of_3 = 12\n",
    "aaa = 12 # aaa 는 3의 개수"
   ]
  },
  {
   "cell_type": "markdown",
   "metadata": {},
   "source": [
    "## 조건문\n",
    "- 조건 --> ?\n",
    "\n",
    "if 조건:\n",
    "    ㄴㅇㄹ\n",
    "    ㄴㅇㄹ\n",
    "    ㄴㅇㄹ\n",
    "    ㄴㅇㄹ\n",
    "\n",
    "if 조건:\n",
    "    ㄴㅇㄹ\n",
    "    ㄴㅇㄹ\n",
    "else:\n",
    "    sdf\n",
    "    sdf\n",
    "    sdf\n",
    "    \n",
    "if 조건1:\n",
    "    ㄴㅇㄹ\n",
    "elif 조건2:\n",
    "    ㄴㅇㄹㄴㅇㄹ\n",
    "elif 조건3:\n",
    "    ㄴㅇㄹㄴㅇㄹ\n",
    "else:\n",
    "    sdf"
   ]
  },
  {
   "cell_type": "code",
   "execution_count": null,
   "metadata": {},
   "outputs": [],
   "source": [
    "# x = ???\n",
    "\n",
    "if 양수이면:\n",
    "    ㄴㅇㄹ\n",
    "if 음수이면:\n",
    "    ㄴㅇㄹ\n",
    "\n",
    "if 양수이면:\n",
    "    ㄴㅇㄹ\n",
    "else:\n",
    "    ㄴㅇㄹㄴㅇㄹㄴㅇ\n",
    "\n",
    "# absolute\n",
    "\n",
    "# imsi_x = "
   ]
  },
  {
   "cell_type": "code",
   "execution_count": null,
   "metadata": {},
   "outputs": [],
   "source": [
    "x = 12\n",
    "\n",
    "if (x 가 짝수이면):\n",
    "    print('even')\n",
    "    \n",
    "    if (x 가 3의 배수이면):\n",
    "        print('3')\n",
    "    else:\n",
    "        print('6의 배수는 이니고 짝수')\n",
    "\n",
    "그렇지않으면:\n",
    "    print('odd')"
   ]
  },
  {
   "cell_type": "code",
   "execution_count": null,
   "metadata": {},
   "outputs": [],
   "source": [
    "if x 가 6의 배수이면:\n",
    "    print(6)\n",
    "    \n",
    "else:\n",
    "    x 가 2의 배수이면:\n",
    "        print(2)\n",
    "    else:\n",
    "        x 가 3의 배수이면:\n",
    "            print(3)"
   ]
  },
  {
   "cell_type": "code",
   "execution_count": 33,
   "metadata": {},
   "outputs": [
    {
     "name": "stdout",
     "output_type": "stream",
     "text": [
      "2\n"
     ]
    }
   ],
   "source": [
    "x = 2000\n",
    "\n",
    "if x % 6 == 0:\n",
    "    print(6)\n",
    "elif x % 2 == 0:\n",
    "    print(2)\n",
    "elif x % 3 == 0:\n",
    "    print(3)\n",
    "# else:\n",
    "#     sdf"
   ]
  },
  {
   "cell_type": "code",
   "execution_count": null,
   "metadata": {},
   "outputs": [],
   "source": []
  },
  {
   "cell_type": "code",
   "execution_count": null,
   "metadata": {},
   "outputs": [],
   "source": []
  },
  {
   "cell_type": "code",
   "execution_count": null,
   "metadata": {},
   "outputs": [],
   "source": []
  }
 ],
 "metadata": {
  "kernelspec": {
   "display_name": "Python 3",
   "language": "python",
   "name": "python3"
  },
  "language_info": {
   "codemirror_mode": {
    "name": "ipython",
    "version": 3
   },
   "file_extension": ".py",
   "mimetype": "text/x-python",
   "name": "python",
   "nbconvert_exporter": "python",
   "pygments_lexer": "ipython3",
   "version": "3.6.7"
  }
 },
 "nbformat": 4,
 "nbformat_minor": 2
}
