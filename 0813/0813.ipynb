{
 "cells": [
  {
   "cell_type": "code",
   "execution_count": 1,
   "metadata": {},
   "outputs": [
    {
     "data": {
      "text/plain": [
       "6"
      ]
     },
     "execution_count": 1,
     "metadata": {},
     "output_type": "execute_result"
    }
   ],
   "source": [
    "3*2"
   ]
  },
  {
   "cell_type": "code",
   "execution_count": 2,
   "metadata": {},
   "outputs": [
    {
     "data": {
      "text/plain": [
       "0.6666666666666666"
      ]
     },
     "execution_count": 2,
     "metadata": {},
     "output_type": "execute_result"
    }
   ],
   "source": [
    "2/3"
   ]
  },
  {
   "cell_type": "code",
   "execution_count": 3,
   "metadata": {},
   "outputs": [
    {
     "data": {
      "text/plain": [
       "2"
      ]
     },
     "execution_count": 3,
     "metadata": {},
     "output_type": "execute_result"
    }
   ],
   "source": [
    "2 % 3"
   ]
  },
  {
   "cell_type": "code",
   "execution_count": 4,
   "metadata": {},
   "outputs": [
    {
     "data": {
      "text/plain": [
       "0"
      ]
     },
     "execution_count": 4,
     "metadata": {},
     "output_type": "execute_result"
    }
   ],
   "source": [
    "2 // 3"
   ]
  },
  {
   "cell_type": "code",
   "execution_count": 5,
   "metadata": {},
   "outputs": [
    {
     "data": {
      "text/plain": [
       "8"
      ]
     },
     "execution_count": 5,
     "metadata": {},
     "output_type": "execute_result"
    }
   ],
   "source": [
    "2 ** 3"
   ]
  },
  {
   "cell_type": "code",
   "execution_count": 6,
   "metadata": {},
   "outputs": [
    {
     "data": {
      "text/plain": [
       "-1.0"
      ]
     },
     "execution_count": 6,
     "metadata": {},
     "output_type": "execute_result"
    }
   ],
   "source": [
    "0.3 // -0.3"
   ]
  },
  {
   "cell_type": "code",
   "execution_count": 7,
   "metadata": {},
   "outputs": [
    {
     "data": {
      "text/plain": [
       "'abc333'"
      ]
     },
     "execution_count": 7,
     "metadata": {},
     "output_type": "execute_result"
    }
   ],
   "source": [
    "'abc' + '333'"
   ]
  },
  {
   "cell_type": "code",
   "execution_count": 8,
   "metadata": {},
   "outputs": [
    {
     "data": {
      "text/plain": [
       "'바보바보바보'"
      ]
     },
     "execution_count": 8,
     "metadata": {},
     "output_type": "execute_result"
    }
   ],
   "source": [
    "'바보'*3"
   ]
  },
  {
   "cell_type": "code",
   "execution_count": 11,
   "metadata": {},
   "outputs": [
    {
     "data": {
      "text/plain": [
       "''"
      ]
     },
     "execution_count": 11,
     "metadata": {},
     "output_type": "execute_result"
    }
   ],
   "source": [
    "'바보' * -1"
   ]
  },
  {
   "cell_type": "code",
   "execution_count": 12,
   "metadata": {},
   "outputs": [
    {
     "data": {
      "text/plain": [
       "3"
      ]
     },
     "execution_count": 12,
     "metadata": {},
     "output_type": "execute_result"
    }
   ],
   "source": [
    "len('abc')"
   ]
  },
  {
   "cell_type": "code",
   "execution_count": 13,
   "metadata": {},
   "outputs": [
    {
     "data": {
      "text/plain": [
       "True"
      ]
     },
     "execution_count": 13,
     "metadata": {},
     "output_type": "execute_result"
    }
   ],
   "source": [
    "'s'in\"sbc\""
   ]
  },
  {
   "cell_type": "code",
   "execution_count": 14,
   "metadata": {},
   "outputs": [
    {
     "data": {
      "text/plain": [
       "False"
      ]
     },
     "execution_count": 14,
     "metadata": {},
     "output_type": "execute_result"
    }
   ],
   "source": [
    "'ac' in 'abc'"
   ]
  },
  {
   "cell_type": "code",
   "execution_count": 15,
   "metadata": {},
   "outputs": [
    {
     "data": {
      "text/plain": [
       "True"
      ]
     },
     "execution_count": 15,
     "metadata": {},
     "output_type": "execute_result"
    }
   ],
   "source": [
    "'ac' not in 'abc'"
   ]
  },
  {
   "cell_type": "code",
   "execution_count": 16,
   "metadata": {},
   "outputs": [
    {
     "ename": "TypeError",
     "evalue": "'in <string>' requires string as left operand, not bool",
     "output_type": "error",
     "traceback": [
      "\u001b[0;31m---------------------------------------------------------------------------\u001b[0m",
      "\u001b[0;31mTypeError\u001b[0m                                 Traceback (most recent call last)",
      "\u001b[0;32m<ipython-input-16-1257662922fd>\u001b[0m in \u001b[0;36m<module>\u001b[0;34m\u001b[0m\n\u001b[0;32m----> 1\u001b[0;31m \u001b[0;34m(\u001b[0m\u001b[0;32mnot\u001b[0m \u001b[0;34m'ac'\u001b[0m\u001b[0;34m)\u001b[0m \u001b[0;32min\u001b[0m \u001b[0;34m'abc'\u001b[0m\u001b[0;34m\u001b[0m\u001b[0;34m\u001b[0m\u001b[0m\n\u001b[0m",
      "\u001b[0;31mTypeError\u001b[0m: 'in <string>' requires string as left operand, not bool"
     ]
    }
   ],
   "source": [
    "(not 'ac') in 'abc'"
   ]
  },
  {
   "cell_type": "code",
   "execution_count": 17,
   "metadata": {},
   "outputs": [
    {
     "data": {
      "text/plain": [
       "False"
      ]
     },
     "execution_count": 17,
     "metadata": {},
     "output_type": "execute_result"
    }
   ],
   "source": [
    "3>=4"
   ]
  },
  {
   "cell_type": "code",
   "execution_count": 18,
   "metadata": {},
   "outputs": [
    {
     "data": {
      "text/plain": [
       "'1'"
      ]
     },
     "execution_count": 18,
     "metadata": {},
     "output_type": "execute_result"
    }
   ],
   "source": [
    "str(1)"
   ]
  },
  {
   "cell_type": "code",
   "execution_count": 19,
   "metadata": {},
   "outputs": [
    {
     "data": {
      "text/plain": [
       "1"
      ]
     },
     "execution_count": 19,
     "metadata": {},
     "output_type": "execute_result"
    }
   ],
   "source": [
    "int('1')"
   ]
  },
  {
   "cell_type": "code",
   "execution_count": 20,
   "metadata": {},
   "outputs": [
    {
     "data": {
      "text/plain": [
       "2.0"
      ]
     },
     "execution_count": 20,
     "metadata": {},
     "output_type": "execute_result"
    }
   ],
   "source": [
    "float(\"2\")"
   ]
  },
  {
   "cell_type": "code",
   "execution_count": 24,
   "metadata": {},
   "outputs": [
    {
     "data": {
      "text/plain": [
       "'2019-+8-07'"
      ]
     },
     "execution_count": 24,
     "metadata": {},
     "output_type": "execute_result"
    }
   ],
   "source": [
    "'%4d-%+2d-%02d' % (2019,8,7)"
   ]
  },
  {
   "cell_type": "code",
   "execution_count": 26,
   "metadata": {},
   "outputs": [
    {
     "data": {
      "text/plain": [
       "3.14"
      ]
     },
     "execution_count": 26,
     "metadata": {},
     "output_type": "execute_result"
    }
   ],
   "source": [
    "float('%.2lf' % (3.141592))"
   ]
  },
  {
   "cell_type": "code",
   "execution_count": 27,
   "metadata": {},
   "outputs": [
    {
     "data": {
      "text/plain": [
       "'2019-8-7'"
      ]
     },
     "execution_count": 27,
     "metadata": {},
     "output_type": "execute_result"
    }
   ],
   "source": [
    "'{}-{}-{}'.format(2019, 8, 7)"
   ]
  },
  {
   "cell_type": "code",
   "execution_count": 29,
   "metadata": {},
   "outputs": [],
   "source": [
    "x=20"
   ]
  },
  {
   "cell_type": "code",
   "execution_count": 32,
   "metadata": {},
   "outputs": [
    {
     "name": "stdout",
     "output_type": "stream",
     "text": [
      "x=20, y=30, z=40\n"
     ]
    }
   ],
   "source": [
    "x=20\n",
    "y=30\n",
    "z=40\n",
    "print('x={}, y={}, z={}'.format(x, y, z))"
   ]
  },
  {
   "cell_type": "code",
   "execution_count": 33,
   "metadata": {},
   "outputs": [
    {
     "data": {
      "text/plain": [
       "[1, 2, 3, 4]"
      ]
     },
     "execution_count": 33,
     "metadata": {},
     "output_type": "execute_result"
    }
   ],
   "source": [
    "[1, 2, 3, 4]"
   ]
  },
  {
   "cell_type": "code",
   "execution_count": 70,
   "metadata": {},
   "outputs": [
    {
     "data": {
      "text/plain": [
       "4"
      ]
     },
     "execution_count": 70,
     "metadata": {},
     "output_type": "execute_result"
    }
   ],
   "source": [
    "len([1, 2, 3, 4])"
   ]
  },
  {
   "cell_type": "code",
   "execution_count": 71,
   "metadata": {},
   "outputs": [
    {
     "data": {
      "text/plain": [
       "4"
      ]
     },
     "execution_count": 71,
     "metadata": {},
     "output_type": "execute_result"
    }
   ],
   "source": [
    "lst=[1, 2, 3, 4]\n",
    "lst[3]"
   ]
  },
  {
   "cell_type": "code",
   "execution_count": 72,
   "metadata": {},
   "outputs": [
    {
     "ename": "IndexError",
     "evalue": "list index out of range",
     "output_type": "error",
     "traceback": [
      "\u001b[0;31m---------------------------------------------------------------------------\u001b[0m",
      "\u001b[0;31mIndexError\u001b[0m                                Traceback (most recent call last)",
      "\u001b[0;32m<ipython-input-72-843c5cb805fc>\u001b[0m in \u001b[0;36m<module>\u001b[0;34m\u001b[0m\n\u001b[0;32m----> 1\u001b[0;31m \u001b[0mlst\u001b[0m\u001b[0;34m[\u001b[0m\u001b[0;36m5\u001b[0m\u001b[0;34m]\u001b[0m\u001b[0;34m\u001b[0m\u001b[0;34m\u001b[0m\u001b[0m\n\u001b[0m",
      "\u001b[0;31mIndexError\u001b[0m: list index out of range"
     ]
    }
   ],
   "source": [
    "lst[5]"
   ]
  },
  {
   "cell_type": "code",
   "execution_count": 73,
   "metadata": {},
   "outputs": [
    {
     "data": {
      "text/plain": [
       "4"
      ]
     },
     "execution_count": 73,
     "metadata": {},
     "output_type": "execute_result"
    }
   ],
   "source": [
    "lst[-1]"
   ]
  },
  {
   "cell_type": "code",
   "execution_count": 74,
   "metadata": {},
   "outputs": [
    {
     "data": {
      "text/plain": [
       "3"
      ]
     },
     "execution_count": 74,
     "metadata": {},
     "output_type": "execute_result"
    }
   ],
   "source": [
    "lst[-2]"
   ]
  },
  {
   "cell_type": "code",
   "execution_count": 75,
   "metadata": {},
   "outputs": [
    {
     "data": {
      "text/plain": [
       "2"
      ]
     },
     "execution_count": 75,
     "metadata": {},
     "output_type": "execute_result"
    }
   ],
   "source": [
    "lst[-3]"
   ]
  },
  {
   "cell_type": "code",
   "execution_count": 76,
   "metadata": {},
   "outputs": [
    {
     "data": {
      "text/plain": [
       "1"
      ]
     },
     "execution_count": 76,
     "metadata": {},
     "output_type": "execute_result"
    }
   ],
   "source": [
    "lst[-4]"
   ]
  },
  {
   "cell_type": "code",
   "execution_count": 77,
   "metadata": {},
   "outputs": [
    {
     "ename": "IndexError",
     "evalue": "list index out of range",
     "output_type": "error",
     "traceback": [
      "\u001b[0;31m---------------------------------------------------------------------------\u001b[0m",
      "\u001b[0;31mIndexError\u001b[0m                                Traceback (most recent call last)",
      "\u001b[0;32m<ipython-input-77-f2fcf4218453>\u001b[0m in \u001b[0;36m<module>\u001b[0;34m\u001b[0m\n\u001b[0;32m----> 1\u001b[0;31m \u001b[0mlst\u001b[0m\u001b[0;34m[\u001b[0m\u001b[0;34m-\u001b[0m\u001b[0;36m5\u001b[0m\u001b[0;34m]\u001b[0m\u001b[0;34m\u001b[0m\u001b[0;34m\u001b[0m\u001b[0m\n\u001b[0m",
      "\u001b[0;31mIndexError\u001b[0m: list index out of range"
     ]
    }
   ],
   "source": [
    "lst[-5]"
   ]
  },
  {
   "cell_type": "code",
   "execution_count": 78,
   "metadata": {},
   "outputs": [
    {
     "data": {
      "text/plain": [
       "[1, 2]"
      ]
     },
     "execution_count": 78,
     "metadata": {},
     "output_type": "execute_result"
    }
   ],
   "source": [
    "lst[0: 2]"
   ]
  },
  {
   "cell_type": "code",
   "execution_count": 79,
   "metadata": {},
   "outputs": [
    {
     "data": {
      "text/plain": [
       "[2, 3]"
      ]
     },
     "execution_count": 79,
     "metadata": {},
     "output_type": "execute_result"
    }
   ],
   "source": [
    "lst[-3: -1]"
   ]
  },
  {
   "cell_type": "code",
   "execution_count": 80,
   "metadata": {},
   "outputs": [
    {
     "data": {
      "text/plain": [
       "[1, 2, 3]"
      ]
     },
     "execution_count": 80,
     "metadata": {},
     "output_type": "execute_result"
    }
   ],
   "source": [
    "lst[:3]"
   ]
  },
  {
   "cell_type": "code",
   "execution_count": 81,
   "metadata": {},
   "outputs": [
    {
     "data": {
      "text/plain": [
       "[3, 4]"
      ]
     },
     "execution_count": 81,
     "metadata": {},
     "output_type": "execute_result"
    }
   ],
   "source": [
    "lst[2:]"
   ]
  },
  {
   "cell_type": "code",
   "execution_count": 82,
   "metadata": {},
   "outputs": [
    {
     "data": {
      "text/plain": [
       "[1, 2, 3, 4]"
      ]
     },
     "execution_count": 82,
     "metadata": {},
     "output_type": "execute_result"
    }
   ],
   "source": [
    "lst[:]"
   ]
  },
  {
   "cell_type": "code",
   "execution_count": 83,
   "metadata": {},
   "outputs": [
    {
     "data": {
      "text/plain": [
       "[1, 2, 3, 4]"
      ]
     },
     "execution_count": 83,
     "metadata": {},
     "output_type": "execute_result"
    }
   ],
   "source": [
    "lst[:]"
   ]
  },
  {
   "cell_type": "code",
   "execution_count": 84,
   "metadata": {},
   "outputs": [],
   "source": [
    "lst[-1]=5"
   ]
  },
  {
   "cell_type": "code",
   "execution_count": 85,
   "metadata": {},
   "outputs": [
    {
     "name": "stdout",
     "output_type": "stream",
     "text": [
      "[1, 2, 3, 5]\n"
     ]
    }
   ],
   "source": [
    "print(lst)"
   ]
  },
  {
   "cell_type": "code",
   "execution_count": 86,
   "metadata": {},
   "outputs": [],
   "source": [
    "lst[0:2]=['a']"
   ]
  },
  {
   "cell_type": "code",
   "execution_count": 87,
   "metadata": {},
   "outputs": [
    {
     "name": "stdout",
     "output_type": "stream",
     "text": [
      "['a', 3, 5]\n"
     ]
    }
   ],
   "source": [
    "print(lst)"
   ]
  },
  {
   "cell_type": "code",
   "execution_count": 88,
   "metadata": {},
   "outputs": [
    {
     "name": "stdout",
     "output_type": "stream",
     "text": [
      "['a', 3, 5, 10]\n"
     ]
    }
   ],
   "source": [
    "lst.append(10)\n",
    "print(lst)"
   ]
  },
  {
   "cell_type": "code",
   "execution_count": 94,
   "metadata": {},
   "outputs": [
    {
     "name": "stdout",
     "output_type": "stream",
     "text": [
      "[3, 3, 3, 3, 3, 'a', 3, 5, 10]\n"
     ]
    }
   ],
   "source": [
    "lst.insert(0, 3)\n",
    "print(lst)"
   ]
  },
  {
   "cell_type": "code",
   "execution_count": 97,
   "metadata": {},
   "outputs": [
    {
     "name": "stdout",
     "output_type": "stream",
     "text": [
      "[4, 3, 3, 3, 3, 3, 'a', 3, 5, 4, 4, 10]\n"
     ]
    }
   ],
   "source": [
    "lst.insert(-1, 4)\n",
    "print(lst)"
   ]
  },
  {
   "cell_type": "code",
   "execution_count": 101,
   "metadata": {},
   "outputs": [],
   "source": [
    "lst.remove(3)"
   ]
  },
  {
   "cell_type": "code",
   "execution_count": 102,
   "metadata": {},
   "outputs": [
    {
     "name": "stdout",
     "output_type": "stream",
     "text": [
      "[4, 3, 3, 'a', 3, 5, 4, 4, 10]\n"
     ]
    }
   ],
   "source": [
    "print(lst)"
   ]
  },
  {
   "cell_type": "code",
   "execution_count": 104,
   "metadata": {},
   "outputs": [
    {
     "name": "stdout",
     "output_type": "stream",
     "text": [
      "[4, 3, 3, 'a', 5, 4, 4, 10]\n"
     ]
    }
   ],
   "source": [
    "lst[4: 5]=[]\n",
    "print(lst)"
   ]
  },
  {
   "cell_type": "code",
   "execution_count": 105,
   "metadata": {},
   "outputs": [
    {
     "data": {
      "text/plain": [
       "[1, 2, 3, 'a', 'b', 'c']"
      ]
     },
     "execution_count": 105,
     "metadata": {},
     "output_type": "execute_result"
    }
   ],
   "source": [
    "[1, 2, 3]+['a', 'b', 'c']"
   ]
  },
  {
   "cell_type": "code",
   "execution_count": 106,
   "metadata": {},
   "outputs": [
    {
     "data": {
      "text/plain": [
       "[1, 2, 3, 1, 2, 3, 1, 2, 3]"
      ]
     },
     "execution_count": 106,
     "metadata": {},
     "output_type": "execute_result"
    }
   ],
   "source": [
    "[1, 2, 3] * 3"
   ]
  },
  {
   "cell_type": "code",
   "execution_count": 107,
   "metadata": {},
   "outputs": [
    {
     "data": {
      "text/plain": [
       "[4,\n",
       " 3,\n",
       " 3,\n",
       " 'a',\n",
       " 5,\n",
       " 4,\n",
       " 4,\n",
       " 10,\n",
       " 4,\n",
       " 3,\n",
       " 3,\n",
       " 'a',\n",
       " 5,\n",
       " 4,\n",
       " 4,\n",
       " 10,\n",
       " 4,\n",
       " 3,\n",
       " 3,\n",
       " 'a',\n",
       " 5,\n",
       " 4,\n",
       " 4,\n",
       " 10]"
      ]
     },
     "execution_count": 107,
     "metadata": {},
     "output_type": "execute_result"
    }
   ],
   "source": [
    "lst * 3"
   ]
  },
  {
   "cell_type": "code",
   "execution_count": 108,
   "metadata": {},
   "outputs": [
    {
     "data": {
      "text/plain": [
       "4"
      ]
     },
     "execution_count": 108,
     "metadata": {},
     "output_type": "execute_result"
    }
   ],
   "source": [
    "tp = (1, 2, 3, 4)\n",
    "tp[-1]"
   ]
  },
  {
   "cell_type": "code",
   "execution_count": 109,
   "metadata": {},
   "outputs": [
    {
     "ename": "AttributeError",
     "evalue": "'tuple' object has no attribute 'append'",
     "output_type": "error",
     "traceback": [
      "\u001b[0;31m---------------------------------------------------------------------------\u001b[0m",
      "\u001b[0;31mAttributeError\u001b[0m                            Traceback (most recent call last)",
      "\u001b[0;32m<ipython-input-109-6db3daf3aac4>\u001b[0m in \u001b[0;36m<module>\u001b[0;34m\u001b[0m\n\u001b[0;32m----> 1\u001b[0;31m \u001b[0mtp\u001b[0m\u001b[0;34m.\u001b[0m\u001b[0mappend\u001b[0m\u001b[0;34m(\u001b[0m\u001b[0;36m10\u001b[0m\u001b[0;34m)\u001b[0m\u001b[0;34m\u001b[0m\u001b[0;34m\u001b[0m\u001b[0m\n\u001b[0m",
      "\u001b[0;31mAttributeError\u001b[0m: 'tuple' object has no attribute 'append'"
     ]
    }
   ],
   "source": [
    "tp.append(10)"
   ]
  },
  {
   "cell_type": "code",
   "execution_count": 110,
   "metadata": {},
   "outputs": [
    {
     "name": "stdout",
     "output_type": "stream",
     "text": [
      "삶\n"
     ]
    }
   ],
   "source": [
    "print('삶')"
   ]
  },
  {
   "cell_type": "code",
   "execution_count": 119,
   "metadata": {},
   "outputs": [
    {
     "data": {
      "text/plain": [
       "-1234"
      ]
     },
     "execution_count": 119,
     "metadata": {},
     "output_type": "execute_result"
    }
   ],
   "source": [
    "x=-1234\n",
    "int(x)"
   ]
  },
  {
   "cell_type": "code",
   "execution_count": 120,
   "metadata": {},
   "outputs": [
    {
     "name": "stdout",
     "output_type": "stream",
     "text": [
      "1234\n"
     ]
    }
   ],
   "source": [
    "z=str(-x)\n",
    "print(z)"
   ]
  },
  {
   "cell_type": "code",
   "execution_count": 121,
   "metadata": {},
   "outputs": [
    {
     "name": "stdout",
     "output_type": "stream",
     "text": [
      "4\n"
     ]
    }
   ],
   "source": [
    "y=len(z)\n",
    "print(y)"
   ]
  },
  {
   "cell_type": "code",
   "execution_count": 4,
   "metadata": {},
   "outputs": [
    {
     "name": "stdout",
     "output_type": "stream",
     "text": [
      "10\n"
     ]
    }
   ],
   "source": [
    "x=-1234523456\n",
    "\n",
    "if x>=0:\n",
    "    jeoldatgab=str(x)\n",
    "    print(len(jeoldatgab))\n",
    "else:\n",
    "    jeoldatgab=str(-x)\n",
    "    print(len(jeoldatgab))\n"
   ]
  },
  {
   "cell_type": "code",
   "execution_count": 5,
   "metadata": {},
   "outputs": [
    {
     "name": "stdout",
     "output_type": "stream",
     "text": [
      "even\n",
      "6의 배수는 아니고 짝수\n"
     ]
    }
   ],
   "source": [
    "x==12\n",
    "\n",
    "if x%2==0:\n",
    "    print('even')\n",
    "    \n",
    "    if x%3==0:\n",
    "        print('3')\n",
    "    else:\n",
    "        print('6의 배수는 아니고 짝수')\n",
    "else:\n",
    "    print('odd')"
   ]
  },
  {
   "cell_type": "code",
   "execution_count": 130,
   "metadata": {},
   "outputs": [
    {
     "data": {
      "text/plain": [
       "True"
      ]
     },
     "execution_count": 130,
     "metadata": {},
     "output_type": "execute_result"
    }
   ],
   "source": [
    "[1, 2] in [[1, 2], 3]"
   ]
  },
  {
   "cell_type": "code",
   "execution_count": 3,
   "metadata": {},
   "outputs": [
    {
     "name": "stdout",
     "output_type": "stream",
     "text": [
      "a\n",
      "b\n",
      "c\n",
      "d\n"
     ]
    }
   ],
   "source": [
    "lst=['a', 'b', 'c', 'd']\n",
    "i=0\n",
    "\n",
    "while i<len(lst):\n",
    "    print(lst[i])\n",
    "    i=i+1"
   ]
  },
  {
   "cell_type": "code",
   "execution_count": 5,
   "metadata": {},
   "outputs": [
    {
     "name": "stdout",
     "output_type": "stream",
     "text": [
      "11\n"
     ]
    }
   ],
   "source": [
    "lst=[3, 5, 2, 1]\n",
    "i=0\n",
    "x=0\n",
    "\n",
    "while x<len(lst):\n",
    "    i=i+lst[x]\n",
    "    x=x+1\n",
    "\n",
    "print(i)\n"
   ]
  },
  {
   "cell_type": "code",
   "execution_count": 10,
   "metadata": {},
   "outputs": [
    {
     "name": "stdout",
     "output_type": "stream",
     "text": [
      "11\n"
     ]
    }
   ],
   "source": [
    "lst=[3, 5, 2, 1]\n",
    "i=0\n",
    "\n",
    "for x in lst:\n",
    "    i=i+x\n",
    "\n",
    "print(i)"
   ]
  },
  {
   "cell_type": "code",
   "execution_count": 1,
   "metadata": {},
   "outputs": [
    {
     "name": "stdout",
     "output_type": "stream",
     "text": [
      "1\n",
      "['I', 'am', 'a', 'boy']\n"
     ]
    }
   ],
   "source": [
    "sentence = \"I am a boy\"\n",
    "words = sentence.split(' ')\n",
    "\n",
    "i=0\n",
    "\n",
    "for x in words:\n",
    "    if x=='boy':\n",
    "        i=i+1\n",
    "\n",
    "print(i)\n",
    "\n",
    "print(words)\n",
    "    "
   ]
  },
  {
   "cell_type": "code",
   "execution_count": 19,
   "metadata": {},
   "outputs": [
    {
     "name": "stdout",
     "output_type": "stream",
     "text": [
      "[1, 2, 4, 5, 10, 20]\n"
     ]
    }
   ],
   "source": [
    "lst=[]\n",
    "\n",
    "for x in range(1, 21):\n",
    "    if 20%x==0:\n",
    "        lst.append(x)\n",
    "\n",
    "print(lst)\n"
   ]
  },
  {
   "cell_type": "code",
   "execution_count": 33,
   "metadata": {},
   "outputs": [
    {
     "name": "stdout",
     "output_type": "stream",
     "text": [
      "[1, 2, 4, 5, 10, 20]\n"
     ]
    }
   ],
   "source": [
    "def factor_20():\n",
    "    lst1=[]\n",
    "    for xxx in range(1, 21):\n",
    "        if 20%xxx==0:\n",
    "            lst1.append(xxx)\n",
    "    return lst1\n",
    "\n",
    "y=factor_20()\n",
    "\n",
    "print(y)"
   ]
  },
  {
   "cell_type": "code",
   "execution_count": 36,
   "metadata": {},
   "outputs": [
    {
     "name": "stdout",
     "output_type": "stream",
     "text": [
      "[1, 3, 5, 7, 9, 15, 21, 35, 45, 63, 105, 315]\n"
     ]
    }
   ],
   "source": [
    "def factor_n(n):\n",
    "    lst=[]\n",
    "    for x in range(1, n+1):\n",
    "        if n%x==0:\n",
    "            lst.append(x)\n",
    "    return lst\n",
    "\n",
    "print(factor_n(315))"
   ]
  },
  {
   "cell_type": "code",
   "execution_count": 44,
   "metadata": {},
   "outputs": [
    {
     "name": "stdout",
     "output_type": "stream",
     "text": [
      "{1: True, 2: True, 4: True, 5: True, 10: True, 20: True}\n"
     ]
    }
   ],
   "source": [
    "#Dictionary d는 20의 약수의 집합\n",
    "\n",
    "d = {}\n",
    "\n",
    "for i in range(1, 21):\n",
    "    if 20 % i == 0:\n",
    "        d[i] = True\n",
    "\n",
    "print(d)"
   ]
  },
  {
   "cell_type": "code",
   "execution_count": 45,
   "metadata": {},
   "outputs": [
    {
     "data": {
      "text/plain": [
       "dict_keys([1, 2, 4, 5, 10, 20])"
      ]
     },
     "execution_count": 45,
     "metadata": {},
     "output_type": "execute_result"
    }
   ],
   "source": [
    "d.keys()"
   ]
  },
  {
   "cell_type": "code",
   "execution_count": 46,
   "metadata": {},
   "outputs": [
    {
     "data": {
      "text/plain": [
       "dict_values([True, True, True, True, True, True])"
      ]
     },
     "execution_count": 46,
     "metadata": {},
     "output_type": "execute_result"
    }
   ],
   "source": [
    "d.values()"
   ]
  },
  {
   "cell_type": "code",
   "execution_count": 3,
   "metadata": {},
   "outputs": [],
   "source": [
    "d= {\n",
    "    'name': ['A', 'B', 'C', 'D'],\n",
    "    'address': [1, 2, 3, 44],\n",
    "    'age': [11, 22, 33, 44]\n",
    "}"
   ]
  },
  {
   "cell_type": "code",
   "execution_count": 11,
   "metadata": {},
   "outputs": [
    {
     "data": {
      "text/html": [
       "<div>\n",
       "<style scoped>\n",
       "    .dataframe tbody tr th:only-of-type {\n",
       "        vertical-align: middle;\n",
       "    }\n",
       "\n",
       "    .dataframe tbody tr th {\n",
       "        vertical-align: top;\n",
       "    }\n",
       "\n",
       "    .dataframe thead th {\n",
       "        text-align: right;\n",
       "    }\n",
       "</style>\n",
       "<table border=\"1\" class=\"dataframe\">\n",
       "  <thead>\n",
       "    <tr style=\"text-align: right;\">\n",
       "      <th></th>\n",
       "      <th>name</th>\n",
       "      <th>address</th>\n",
       "      <th>age</th>\n",
       "    </tr>\n",
       "  </thead>\n",
       "  <tbody>\n",
       "    <tr>\n",
       "      <th>0</th>\n",
       "      <td>A</td>\n",
       "      <td>1</td>\n",
       "      <td>11</td>\n",
       "    </tr>\n",
       "    <tr>\n",
       "      <th>1</th>\n",
       "      <td>B</td>\n",
       "      <td>2</td>\n",
       "      <td>22</td>\n",
       "    </tr>\n",
       "    <tr>\n",
       "      <th>2</th>\n",
       "      <td>C</td>\n",
       "      <td>3</td>\n",
       "      <td>33</td>\n",
       "    </tr>\n",
       "    <tr>\n",
       "      <th>3</th>\n",
       "      <td>D</td>\n",
       "      <td>44</td>\n",
       "      <td>44</td>\n",
       "    </tr>\n",
       "  </tbody>\n",
       "</table>\n",
       "</div>"
      ],
      "text/plain": [
       "  name  address  age\n",
       "0    A        1   11\n",
       "1    B        2   22\n",
       "2    C        3   33\n",
       "3    D       44   44"
      ]
     },
     "execution_count": 11,
     "metadata": {},
     "output_type": "execute_result"
    }
   ],
   "source": [
    "import pandas as pd\n",
    "import numpy as np\n",
    "\n",
    "df = pd.DataFrame(d)\n",
    "df"
   ]
  },
  {
   "cell_type": "code",
   "execution_count": 14,
   "metadata": {},
   "outputs": [
    {
     "data": {
      "text/plain": [
       "'C'"
      ]
     },
     "execution_count": 14,
     "metadata": {},
     "output_type": "execute_result"
    }
   ],
   "source": [
    "type(df['name'])\n",
    "\n",
    "df['name'][2]"
   ]
  },
  {
   "cell_type": "code",
   "execution_count": 16,
   "metadata": {},
   "outputs": [
    {
     "data": {
      "text/html": [
       "<div>\n",
       "<style scoped>\n",
       "    .dataframe tbody tr th:only-of-type {\n",
       "        vertical-align: middle;\n",
       "    }\n",
       "\n",
       "    .dataframe tbody tr th {\n",
       "        vertical-align: top;\n",
       "    }\n",
       "\n",
       "    .dataframe thead th {\n",
       "        text-align: right;\n",
       "    }\n",
       "</style>\n",
       "<table border=\"1\" class=\"dataframe\">\n",
       "  <thead>\n",
       "    <tr style=\"text-align: right;\">\n",
       "      <th></th>\n",
       "      <th>name</th>\n",
       "      <th>address</th>\n",
       "      <th>age</th>\n",
       "    </tr>\n",
       "  </thead>\n",
       "  <tbody>\n",
       "    <tr>\n",
       "      <th>0</th>\n",
       "      <td>A</td>\n",
       "      <td>1</td>\n",
       "      <td>11</td>\n",
       "    </tr>\n",
       "    <tr>\n",
       "      <th>1</th>\n",
       "      <td>B</td>\n",
       "      <td>2</td>\n",
       "      <td>22</td>\n",
       "    </tr>\n",
       "  </tbody>\n",
       "</table>\n",
       "</div>"
      ],
      "text/plain": [
       "  name  address  age\n",
       "0    A        1   11\n",
       "1    B        2   22"
      ]
     },
     "execution_count": 16,
     "metadata": {},
     "output_type": "execute_result"
    }
   ],
   "source": [
    "df[0: 2]"
   ]
  },
  {
   "cell_type": "code",
   "execution_count": 21,
   "metadata": {},
   "outputs": [],
   "source": [
    "s= {\n",
    "    'name': ['A', 'B', 'C', 'D'],\n",
    "    'address': [1, 1, 3, 44],\n",
    "    'age': [11, 22, 33, 44]\n",
    "}"
   ]
  },
  {
   "cell_type": "code",
   "execution_count": 22,
   "metadata": {},
   "outputs": [
    {
     "data": {
      "text/html": [
       "<div>\n",
       "<style scoped>\n",
       "    .dataframe tbody tr th:only-of-type {\n",
       "        vertical-align: middle;\n",
       "    }\n",
       "\n",
       "    .dataframe tbody tr th {\n",
       "        vertical-align: top;\n",
       "    }\n",
       "\n",
       "    .dataframe thead th {\n",
       "        text-align: right;\n",
       "    }\n",
       "</style>\n",
       "<table border=\"1\" class=\"dataframe\">\n",
       "  <thead>\n",
       "    <tr style=\"text-align: right;\">\n",
       "      <th></th>\n",
       "      <th>name</th>\n",
       "      <th>address</th>\n",
       "      <th>age</th>\n",
       "    </tr>\n",
       "  </thead>\n",
       "  <tbody>\n",
       "    <tr>\n",
       "      <th>0</th>\n",
       "      <td>A</td>\n",
       "      <td>1</td>\n",
       "      <td>11</td>\n",
       "    </tr>\n",
       "    <tr>\n",
       "      <th>1</th>\n",
       "      <td>B</td>\n",
       "      <td>1</td>\n",
       "      <td>22</td>\n",
       "    </tr>\n",
       "    <tr>\n",
       "      <th>2</th>\n",
       "      <td>C</td>\n",
       "      <td>3</td>\n",
       "      <td>33</td>\n",
       "    </tr>\n",
       "    <tr>\n",
       "      <th>3</th>\n",
       "      <td>D</td>\n",
       "      <td>44</td>\n",
       "      <td>44</td>\n",
       "    </tr>\n",
       "  </tbody>\n",
       "</table>\n",
       "</div>"
      ],
      "text/plain": [
       "  name  address  age\n",
       "0    A        1   11\n",
       "1    B        1   22\n",
       "2    C        3   33\n",
       "3    D       44   44"
      ]
     },
     "execution_count": 22,
     "metadata": {},
     "output_type": "execute_result"
    }
   ],
   "source": [
    "pd.DataFrame(s)"
   ]
  },
  {
   "cell_type": "code",
   "execution_count": 31,
   "metadata": {},
   "outputs": [
    {
     "data": {
      "text/html": [
       "<div>\n",
       "<style scoped>\n",
       "    .dataframe tbody tr th:only-of-type {\n",
       "        vertical-align: middle;\n",
       "    }\n",
       "\n",
       "    .dataframe tbody tr th {\n",
       "        vertical-align: top;\n",
       "    }\n",
       "\n",
       "    .dataframe thead th {\n",
       "        text-align: right;\n",
       "    }\n",
       "</style>\n",
       "<table border=\"1\" class=\"dataframe\">\n",
       "  <thead>\n",
       "    <tr style=\"text-align: right;\">\n",
       "      <th></th>\n",
       "      <th>날짜</th>\n",
       "      <th>공백</th>\n",
       "      <th>강수량</th>\n",
       "    </tr>\n",
       "  </thead>\n",
       "  <tbody>\n",
       "    <tr>\n",
       "      <th>0</th>\n",
       "      <td>01/01/2017</td>\n",
       "      <td>NaN</td>\n",
       "      <td>NaN</td>\n",
       "    </tr>\n",
       "    <tr>\n",
       "      <th>1</th>\n",
       "      <td>02/01/2017</td>\n",
       "      <td>NaN</td>\n",
       "      <td>0.3</td>\n",
       "    </tr>\n",
       "    <tr>\n",
       "      <th>2</th>\n",
       "      <td>03/01/2017</td>\n",
       "      <td>NaN</td>\n",
       "      <td>NaN</td>\n",
       "    </tr>\n",
       "    <tr>\n",
       "      <th>3</th>\n",
       "      <td>04/01/2017</td>\n",
       "      <td>NaN</td>\n",
       "      <td>NaN</td>\n",
       "    </tr>\n",
       "    <tr>\n",
       "      <th>4</th>\n",
       "      <td>05/01/2017</td>\n",
       "      <td>NaN</td>\n",
       "      <td>NaN</td>\n",
       "    </tr>\n",
       "    <tr>\n",
       "      <th>5</th>\n",
       "      <td>06/01/2017</td>\n",
       "      <td>NaN</td>\n",
       "      <td>NaN</td>\n",
       "    </tr>\n",
       "    <tr>\n",
       "      <th>6</th>\n",
       "      <td>07/01/2017</td>\n",
       "      <td>NaN</td>\n",
       "      <td>NaN</td>\n",
       "    </tr>\n",
       "    <tr>\n",
       "      <th>7</th>\n",
       "      <td>08/01/2017</td>\n",
       "      <td>NaN</td>\n",
       "      <td>0.0</td>\n",
       "    </tr>\n",
       "    <tr>\n",
       "      <th>8</th>\n",
       "      <td>09/01/2017</td>\n",
       "      <td>NaN</td>\n",
       "      <td>0.0</td>\n",
       "    </tr>\n",
       "    <tr>\n",
       "      <th>9</th>\n",
       "      <td>10/01/2017</td>\n",
       "      <td>NaN</td>\n",
       "      <td>NaN</td>\n",
       "    </tr>\n",
       "    <tr>\n",
       "      <th>10</th>\n",
       "      <td>11/01/2017</td>\n",
       "      <td>NaN</td>\n",
       "      <td>NaN</td>\n",
       "    </tr>\n",
       "    <tr>\n",
       "      <th>11</th>\n",
       "      <td>12/01/2017</td>\n",
       "      <td>NaN</td>\n",
       "      <td>0.0</td>\n",
       "    </tr>\n",
       "    <tr>\n",
       "      <th>12</th>\n",
       "      <td>13/01/2017</td>\n",
       "      <td>NaN</td>\n",
       "      <td>0.6</td>\n",
       "    </tr>\n",
       "    <tr>\n",
       "      <th>13</th>\n",
       "      <td>14/01/2017</td>\n",
       "      <td>NaN</td>\n",
       "      <td>NaN</td>\n",
       "    </tr>\n",
       "    <tr>\n",
       "      <th>14</th>\n",
       "      <td>15/01/2017</td>\n",
       "      <td>NaN</td>\n",
       "      <td>NaN</td>\n",
       "    </tr>\n",
       "    <tr>\n",
       "      <th>15</th>\n",
       "      <td>16/01/2017</td>\n",
       "      <td>NaN</td>\n",
       "      <td>NaN</td>\n",
       "    </tr>\n",
       "    <tr>\n",
       "      <th>16</th>\n",
       "      <td>17/01/2017</td>\n",
       "      <td>NaN</td>\n",
       "      <td>NaN</td>\n",
       "    </tr>\n",
       "    <tr>\n",
       "      <th>17</th>\n",
       "      <td>18/01/2017</td>\n",
       "      <td>NaN</td>\n",
       "      <td>0.0</td>\n",
       "    </tr>\n",
       "    <tr>\n",
       "      <th>18</th>\n",
       "      <td>19/01/2017</td>\n",
       "      <td>NaN</td>\n",
       "      <td>NaN</td>\n",
       "    </tr>\n",
       "    <tr>\n",
       "      <th>19</th>\n",
       "      <td>20/01/2017</td>\n",
       "      <td>NaN</td>\n",
       "      <td>4.0</td>\n",
       "    </tr>\n",
       "    <tr>\n",
       "      <th>20</th>\n",
       "      <td>21/01/2017</td>\n",
       "      <td>NaN</td>\n",
       "      <td>2.1</td>\n",
       "    </tr>\n",
       "    <tr>\n",
       "      <th>21</th>\n",
       "      <td>22/01/2017</td>\n",
       "      <td>NaN</td>\n",
       "      <td>0.0</td>\n",
       "    </tr>\n",
       "    <tr>\n",
       "      <th>22</th>\n",
       "      <td>23/01/2017</td>\n",
       "      <td>NaN</td>\n",
       "      <td>NaN</td>\n",
       "    </tr>\n",
       "    <tr>\n",
       "      <th>23</th>\n",
       "      <td>24/01/2017</td>\n",
       "      <td>NaN</td>\n",
       "      <td>NaN</td>\n",
       "    </tr>\n",
       "    <tr>\n",
       "      <th>24</th>\n",
       "      <td>25/01/2017</td>\n",
       "      <td>NaN</td>\n",
       "      <td>NaN</td>\n",
       "    </tr>\n",
       "    <tr>\n",
       "      <th>25</th>\n",
       "      <td>26/01/2017</td>\n",
       "      <td>NaN</td>\n",
       "      <td>0.3</td>\n",
       "    </tr>\n",
       "    <tr>\n",
       "      <th>26</th>\n",
       "      <td>27/01/2017</td>\n",
       "      <td>NaN</td>\n",
       "      <td>3.0</td>\n",
       "    </tr>\n",
       "    <tr>\n",
       "      <th>27</th>\n",
       "      <td>28/01/2017</td>\n",
       "      <td>NaN</td>\n",
       "      <td>NaN</td>\n",
       "    </tr>\n",
       "    <tr>\n",
       "      <th>28</th>\n",
       "      <td>29/01/2017</td>\n",
       "      <td>NaN</td>\n",
       "      <td>4.5</td>\n",
       "    </tr>\n",
       "    <tr>\n",
       "      <th>29</th>\n",
       "      <td>30/01/2017</td>\n",
       "      <td>NaN</td>\n",
       "      <td>0.1</td>\n",
       "    </tr>\n",
       "    <tr>\n",
       "      <th>...</th>\n",
       "      <td>...</td>\n",
       "      <td>...</td>\n",
       "      <td>...</td>\n",
       "    </tr>\n",
       "    <tr>\n",
       "      <th>335</th>\n",
       "      <td>02/12/2017</td>\n",
       "      <td>NaN</td>\n",
       "      <td>NaN</td>\n",
       "    </tr>\n",
       "    <tr>\n",
       "      <th>336</th>\n",
       "      <td>03/12/2017</td>\n",
       "      <td>NaN</td>\n",
       "      <td>4.0</td>\n",
       "    </tr>\n",
       "    <tr>\n",
       "      <th>337</th>\n",
       "      <td>04/12/2017</td>\n",
       "      <td>NaN</td>\n",
       "      <td>0.1</td>\n",
       "    </tr>\n",
       "    <tr>\n",
       "      <th>338</th>\n",
       "      <td>05/12/2017</td>\n",
       "      <td>NaN</td>\n",
       "      <td>0.1</td>\n",
       "    </tr>\n",
       "    <tr>\n",
       "      <th>339</th>\n",
       "      <td>06/12/2017</td>\n",
       "      <td>NaN</td>\n",
       "      <td>1.2</td>\n",
       "    </tr>\n",
       "    <tr>\n",
       "      <th>340</th>\n",
       "      <td>07/12/2017</td>\n",
       "      <td>NaN</td>\n",
       "      <td>NaN</td>\n",
       "    </tr>\n",
       "    <tr>\n",
       "      <th>341</th>\n",
       "      <td>08/12/2017</td>\n",
       "      <td>NaN</td>\n",
       "      <td>NaN</td>\n",
       "    </tr>\n",
       "    <tr>\n",
       "      <th>342</th>\n",
       "      <td>09/12/2017</td>\n",
       "      <td>NaN</td>\n",
       "      <td>NaN</td>\n",
       "    </tr>\n",
       "    <tr>\n",
       "      <th>343</th>\n",
       "      <td>10/12/2017</td>\n",
       "      <td>NaN</td>\n",
       "      <td>4.1</td>\n",
       "    </tr>\n",
       "    <tr>\n",
       "      <th>344</th>\n",
       "      <td>11/12/2017</td>\n",
       "      <td>NaN</td>\n",
       "      <td>NaN</td>\n",
       "    </tr>\n",
       "    <tr>\n",
       "      <th>345</th>\n",
       "      <td>12/12/2017</td>\n",
       "      <td>NaN</td>\n",
       "      <td>NaN</td>\n",
       "    </tr>\n",
       "    <tr>\n",
       "      <th>346</th>\n",
       "      <td>13/12/2017</td>\n",
       "      <td>NaN</td>\n",
       "      <td>NaN</td>\n",
       "    </tr>\n",
       "    <tr>\n",
       "      <th>347</th>\n",
       "      <td>14/12/2017</td>\n",
       "      <td>NaN</td>\n",
       "      <td>NaN</td>\n",
       "    </tr>\n",
       "    <tr>\n",
       "      <th>348</th>\n",
       "      <td>15/12/2017</td>\n",
       "      <td>NaN</td>\n",
       "      <td>0.0</td>\n",
       "    </tr>\n",
       "    <tr>\n",
       "      <th>349</th>\n",
       "      <td>16/12/2017</td>\n",
       "      <td>NaN</td>\n",
       "      <td>NaN</td>\n",
       "    </tr>\n",
       "    <tr>\n",
       "      <th>350</th>\n",
       "      <td>17/12/2017</td>\n",
       "      <td>NaN</td>\n",
       "      <td>NaN</td>\n",
       "    </tr>\n",
       "    <tr>\n",
       "      <th>351</th>\n",
       "      <td>18/12/2017</td>\n",
       "      <td>NaN</td>\n",
       "      <td>3.4</td>\n",
       "    </tr>\n",
       "    <tr>\n",
       "      <th>352</th>\n",
       "      <td>19/12/2017</td>\n",
       "      <td>NaN</td>\n",
       "      <td>NaN</td>\n",
       "    </tr>\n",
       "    <tr>\n",
       "      <th>353</th>\n",
       "      <td>20/12/2017</td>\n",
       "      <td>NaN</td>\n",
       "      <td>0.2</td>\n",
       "    </tr>\n",
       "    <tr>\n",
       "      <th>354</th>\n",
       "      <td>21/12/2017</td>\n",
       "      <td>NaN</td>\n",
       "      <td>NaN</td>\n",
       "    </tr>\n",
       "    <tr>\n",
       "      <th>355</th>\n",
       "      <td>22/12/2017</td>\n",
       "      <td>NaN</td>\n",
       "      <td>NaN</td>\n",
       "    </tr>\n",
       "    <tr>\n",
       "      <th>356</th>\n",
       "      <td>23/12/2017</td>\n",
       "      <td>NaN</td>\n",
       "      <td>NaN</td>\n",
       "    </tr>\n",
       "    <tr>\n",
       "      <th>357</th>\n",
       "      <td>24/12/2017</td>\n",
       "      <td>NaN</td>\n",
       "      <td>20.0</td>\n",
       "    </tr>\n",
       "    <tr>\n",
       "      <th>358</th>\n",
       "      <td>25/12/2017</td>\n",
       "      <td>NaN</td>\n",
       "      <td>NaN</td>\n",
       "    </tr>\n",
       "    <tr>\n",
       "      <th>359</th>\n",
       "      <td>26/12/2017</td>\n",
       "      <td>NaN</td>\n",
       "      <td>NaN</td>\n",
       "    </tr>\n",
       "    <tr>\n",
       "      <th>360</th>\n",
       "      <td>27/12/2017</td>\n",
       "      <td>NaN</td>\n",
       "      <td>NaN</td>\n",
       "    </tr>\n",
       "    <tr>\n",
       "      <th>361</th>\n",
       "      <td>28/12/2017</td>\n",
       "      <td>NaN</td>\n",
       "      <td>0.0</td>\n",
       "    </tr>\n",
       "    <tr>\n",
       "      <th>362</th>\n",
       "      <td>29/12/2017</td>\n",
       "      <td>NaN</td>\n",
       "      <td>0.0</td>\n",
       "    </tr>\n",
       "    <tr>\n",
       "      <th>363</th>\n",
       "      <td>30/12/2017</td>\n",
       "      <td>NaN</td>\n",
       "      <td>0.7</td>\n",
       "    </tr>\n",
       "    <tr>\n",
       "      <th>364</th>\n",
       "      <td>31/12/2017</td>\n",
       "      <td>NaN</td>\n",
       "      <td>1.0</td>\n",
       "    </tr>\n",
       "  </tbody>\n",
       "</table>\n",
       "<p>365 rows × 3 columns</p>\n",
       "</div>"
      ],
      "text/plain": [
       "             날짜  공백   강수량\n",
       "0    01/01/2017 NaN   NaN\n",
       "1    02/01/2017 NaN   0.3\n",
       "2    03/01/2017 NaN   NaN\n",
       "3    04/01/2017 NaN   NaN\n",
       "4    05/01/2017 NaN   NaN\n",
       "5    06/01/2017 NaN   NaN\n",
       "6    07/01/2017 NaN   NaN\n",
       "7    08/01/2017 NaN   0.0\n",
       "8    09/01/2017 NaN   0.0\n",
       "9    10/01/2017 NaN   NaN\n",
       "10   11/01/2017 NaN   NaN\n",
       "11   12/01/2017 NaN   0.0\n",
       "12   13/01/2017 NaN   0.6\n",
       "13   14/01/2017 NaN   NaN\n",
       "14   15/01/2017 NaN   NaN\n",
       "15   16/01/2017 NaN   NaN\n",
       "16   17/01/2017 NaN   NaN\n",
       "17   18/01/2017 NaN   0.0\n",
       "18   19/01/2017 NaN   NaN\n",
       "19   20/01/2017 NaN   4.0\n",
       "20   21/01/2017 NaN   2.1\n",
       "21   22/01/2017 NaN   0.0\n",
       "22   23/01/2017 NaN   NaN\n",
       "23   24/01/2017 NaN   NaN\n",
       "24   25/01/2017 NaN   NaN\n",
       "25   26/01/2017 NaN   0.3\n",
       "26   27/01/2017 NaN   3.0\n",
       "27   28/01/2017 NaN   NaN\n",
       "28   29/01/2017 NaN   4.5\n",
       "29   30/01/2017 NaN   0.1\n",
       "..          ...  ..   ...\n",
       "335  02/12/2017 NaN   NaN\n",
       "336  03/12/2017 NaN   4.0\n",
       "337  04/12/2017 NaN   0.1\n",
       "338  05/12/2017 NaN   0.1\n",
       "339  06/12/2017 NaN   1.2\n",
       "340  07/12/2017 NaN   NaN\n",
       "341  08/12/2017 NaN   NaN\n",
       "342  09/12/2017 NaN   NaN\n",
       "343  10/12/2017 NaN   4.1\n",
       "344  11/12/2017 NaN   NaN\n",
       "345  12/12/2017 NaN   NaN\n",
       "346  13/12/2017 NaN   NaN\n",
       "347  14/12/2017 NaN   NaN\n",
       "348  15/12/2017 NaN   0.0\n",
       "349  16/12/2017 NaN   NaN\n",
       "350  17/12/2017 NaN   NaN\n",
       "351  18/12/2017 NaN   3.4\n",
       "352  19/12/2017 NaN   NaN\n",
       "353  20/12/2017 NaN   0.2\n",
       "354  21/12/2017 NaN   NaN\n",
       "355  22/12/2017 NaN   NaN\n",
       "356  23/12/2017 NaN   NaN\n",
       "357  24/12/2017 NaN  20.0\n",
       "358  25/12/2017 NaN   NaN\n",
       "359  26/12/2017 NaN   NaN\n",
       "360  27/12/2017 NaN   NaN\n",
       "361  28/12/2017 NaN   0.0\n",
       "362  29/12/2017 NaN   0.0\n",
       "363  30/12/2017 NaN   0.7\n",
       "364  31/12/2017 NaN   1.0\n",
       "\n",
       "[365 rows x 3 columns]"
      ]
     },
     "execution_count": 31,
     "metadata": {},
     "output_type": "execute_result"
    }
   ],
   "source": [
    "sd = pd.read_csv('./2017년도.csv', names=['날짜', '공백', '강수량'])\n",
    "sd"
   ]
  },
  {
   "cell_type": "code",
   "execution_count": 34,
   "metadata": {},
   "outputs": [
    {
     "data": {
      "text/html": [
       "<div>\n",
       "<style scoped>\n",
       "    .dataframe tbody tr th:only-of-type {\n",
       "        vertical-align: middle;\n",
       "    }\n",
       "\n",
       "    .dataframe tbody tr th {\n",
       "        vertical-align: top;\n",
       "    }\n",
       "\n",
       "    .dataframe thead th {\n",
       "        text-align: right;\n",
       "    }\n",
       "</style>\n",
       "<table border=\"1\" class=\"dataframe\">\n",
       "  <thead>\n",
       "    <tr style=\"text-align: right;\">\n",
       "      <th></th>\n",
       "      <th>날짜</th>\n",
       "      <th>공백</th>\n",
       "      <th>강수량</th>\n",
       "    </tr>\n",
       "  </thead>\n",
       "  <tbody>\n",
       "    <tr>\n",
       "      <th>0</th>\n",
       "      <td>01/01/2017</td>\n",
       "      <td>NaN</td>\n",
       "      <td>NaN</td>\n",
       "    </tr>\n",
       "    <tr>\n",
       "      <th>1</th>\n",
       "      <td>02/01/2017</td>\n",
       "      <td>NaN</td>\n",
       "      <td>0.3</td>\n",
       "    </tr>\n",
       "    <tr>\n",
       "      <th>2</th>\n",
       "      <td>03/01/2017</td>\n",
       "      <td>NaN</td>\n",
       "      <td>NaN</td>\n",
       "    </tr>\n",
       "    <tr>\n",
       "      <th>3</th>\n",
       "      <td>04/01/2017</td>\n",
       "      <td>NaN</td>\n",
       "      <td>NaN</td>\n",
       "    </tr>\n",
       "    <tr>\n",
       "      <th>4</th>\n",
       "      <td>05/01/2017</td>\n",
       "      <td>NaN</td>\n",
       "      <td>NaN</td>\n",
       "    </tr>\n",
       "    <tr>\n",
       "      <th>5</th>\n",
       "      <td>06/01/2017</td>\n",
       "      <td>NaN</td>\n",
       "      <td>NaN</td>\n",
       "    </tr>\n",
       "    <tr>\n",
       "      <th>6</th>\n",
       "      <td>07/01/2017</td>\n",
       "      <td>NaN</td>\n",
       "      <td>NaN</td>\n",
       "    </tr>\n",
       "    <tr>\n",
       "      <th>7</th>\n",
       "      <td>08/01/2017</td>\n",
       "      <td>NaN</td>\n",
       "      <td>0.0</td>\n",
       "    </tr>\n",
       "    <tr>\n",
       "      <th>8</th>\n",
       "      <td>09/01/2017</td>\n",
       "      <td>NaN</td>\n",
       "      <td>0.0</td>\n",
       "    </tr>\n",
       "    <tr>\n",
       "      <th>9</th>\n",
       "      <td>10/01/2017</td>\n",
       "      <td>NaN</td>\n",
       "      <td>NaN</td>\n",
       "    </tr>\n",
       "  </tbody>\n",
       "</table>\n",
       "</div>"
      ],
      "text/plain": [
       "           날짜  공백  강수량\n",
       "0  01/01/2017 NaN  NaN\n",
       "1  02/01/2017 NaN  0.3\n",
       "2  03/01/2017 NaN  NaN\n",
       "3  04/01/2017 NaN  NaN\n",
       "4  05/01/2017 NaN  NaN\n",
       "5  06/01/2017 NaN  NaN\n",
       "6  07/01/2017 NaN  NaN\n",
       "7  08/01/2017 NaN  0.0\n",
       "8  09/01/2017 NaN  0.0\n",
       "9  10/01/2017 NaN  NaN"
      ]
     },
     "execution_count": 34,
     "metadata": {},
     "output_type": "execute_result"
    }
   ],
   "source": [
    "sd.head(10)"
   ]
  },
  {
   "cell_type": "code",
   "execution_count": 35,
   "metadata": {},
   "outputs": [
    {
     "data": {
      "text/plain": [
       "365"
      ]
     },
     "execution_count": 35,
     "metadata": {},
     "output_type": "execute_result"
    }
   ],
   "source": [
    "len(sd)"
   ]
  },
  {
   "cell_type": "code",
   "execution_count": 37,
   "metadata": {},
   "outputs": [
    {
     "data": {
      "text/plain": [
       "0      01/01/2017\n",
       "1      02/01/2017\n",
       "2      03/01/2017\n",
       "3      04/01/2017\n",
       "4      05/01/2017\n",
       "5      06/01/2017\n",
       "6      07/01/2017\n",
       "7      08/01/2017\n",
       "8      09/01/2017\n",
       "9      10/01/2017\n",
       "10     11/01/2017\n",
       "11     12/01/2017\n",
       "12     13/01/2017\n",
       "13     14/01/2017\n",
       "14     15/01/2017\n",
       "15     16/01/2017\n",
       "16     17/01/2017\n",
       "17     18/01/2017\n",
       "18     19/01/2017\n",
       "19     20/01/2017\n",
       "20     21/01/2017\n",
       "21     22/01/2017\n",
       "22     23/01/2017\n",
       "23     24/01/2017\n",
       "24     25/01/2017\n",
       "25     26/01/2017\n",
       "26     27/01/2017\n",
       "27     28/01/2017\n",
       "28     29/01/2017\n",
       "29     30/01/2017\n",
       "          ...    \n",
       "335    02/12/2017\n",
       "336    03/12/2017\n",
       "337    04/12/2017\n",
       "338    05/12/2017\n",
       "339    06/12/2017\n",
       "340    07/12/2017\n",
       "341    08/12/2017\n",
       "342    09/12/2017\n",
       "343    10/12/2017\n",
       "344    11/12/2017\n",
       "345    12/12/2017\n",
       "346    13/12/2017\n",
       "347    14/12/2017\n",
       "348    15/12/2017\n",
       "349    16/12/2017\n",
       "350    17/12/2017\n",
       "351    18/12/2017\n",
       "352    19/12/2017\n",
       "353    20/12/2017\n",
       "354    21/12/2017\n",
       "355    22/12/2017\n",
       "356    23/12/2017\n",
       "357    24/12/2017\n",
       "358    25/12/2017\n",
       "359    26/12/2017\n",
       "360    27/12/2017\n",
       "361    28/12/2017\n",
       "362    29/12/2017\n",
       "363    30/12/2017\n",
       "364    31/12/2017\n",
       "Name: 날짜, Length: 365, dtype: object"
      ]
     },
     "execution_count": 37,
     "metadata": {},
     "output_type": "execute_result"
    }
   ],
   "source": [
    "sd['날짜']"
   ]
  },
  {
   "cell_type": "code",
   "execution_count": 47,
   "metadata": {},
   "outputs": [
    {
     "data": {
      "text/html": [
       "<div>\n",
       "<style scoped>\n",
       "    .dataframe tbody tr th:only-of-type {\n",
       "        vertical-align: middle;\n",
       "    }\n",
       "\n",
       "    .dataframe tbody tr th {\n",
       "        vertical-align: top;\n",
       "    }\n",
       "\n",
       "    .dataframe thead th {\n",
       "        text-align: right;\n",
       "    }\n",
       "</style>\n",
       "<table border=\"1\" class=\"dataframe\">\n",
       "  <thead>\n",
       "    <tr style=\"text-align: right;\">\n",
       "      <th></th>\n",
       "      <th>날짜</th>\n",
       "      <th>공백</th>\n",
       "      <th>강수량</th>\n",
       "    </tr>\n",
       "  </thead>\n",
       "  <tbody>\n",
       "    <tr>\n",
       "      <th>0</th>\n",
       "      <td>01/01/2017</td>\n",
       "      <td>NaN</td>\n",
       "      <td>NaN</td>\n",
       "    </tr>\n",
       "    <tr>\n",
       "      <th>1</th>\n",
       "      <td>02/01/2017</td>\n",
       "      <td>NaN</td>\n",
       "      <td>0.3</td>\n",
       "    </tr>\n",
       "    <tr>\n",
       "      <th>2</th>\n",
       "      <td>03/01/2017</td>\n",
       "      <td>NaN</td>\n",
       "      <td>NaN</td>\n",
       "    </tr>\n",
       "    <tr>\n",
       "      <th>3</th>\n",
       "      <td>04/01/2017</td>\n",
       "      <td>NaN</td>\n",
       "      <td>NaN</td>\n",
       "    </tr>\n",
       "    <tr>\n",
       "      <th>4</th>\n",
       "      <td>05/01/2017</td>\n",
       "      <td>NaN</td>\n",
       "      <td>NaN</td>\n",
       "    </tr>\n",
       "    <tr>\n",
       "      <th>5</th>\n",
       "      <td>06/01/2017</td>\n",
       "      <td>NaN</td>\n",
       "      <td>NaN</td>\n",
       "    </tr>\n",
       "    <tr>\n",
       "      <th>6</th>\n",
       "      <td>07/01/2017</td>\n",
       "      <td>NaN</td>\n",
       "      <td>NaN</td>\n",
       "    </tr>\n",
       "    <tr>\n",
       "      <th>7</th>\n",
       "      <td>08/01/2017</td>\n",
       "      <td>NaN</td>\n",
       "      <td>0.0</td>\n",
       "    </tr>\n",
       "    <tr>\n",
       "      <th>8</th>\n",
       "      <td>09/01/2017</td>\n",
       "      <td>NaN</td>\n",
       "      <td>0.0</td>\n",
       "    </tr>\n",
       "    <tr>\n",
       "      <th>9</th>\n",
       "      <td>10/01/2017</td>\n",
       "      <td>NaN</td>\n",
       "      <td>NaN</td>\n",
       "    </tr>\n",
       "    <tr>\n",
       "      <th>10</th>\n",
       "      <td>11/01/2017</td>\n",
       "      <td>NaN</td>\n",
       "      <td>NaN</td>\n",
       "    </tr>\n",
       "    <tr>\n",
       "      <th>11</th>\n",
       "      <td>12/01/2017</td>\n",
       "      <td>NaN</td>\n",
       "      <td>0.0</td>\n",
       "    </tr>\n",
       "    <tr>\n",
       "      <th>12</th>\n",
       "      <td>13/01/2017</td>\n",
       "      <td>NaN</td>\n",
       "      <td>0.6</td>\n",
       "    </tr>\n",
       "    <tr>\n",
       "      <th>13</th>\n",
       "      <td>14/01/2017</td>\n",
       "      <td>NaN</td>\n",
       "      <td>NaN</td>\n",
       "    </tr>\n",
       "    <tr>\n",
       "      <th>14</th>\n",
       "      <td>15/01/2017</td>\n",
       "      <td>NaN</td>\n",
       "      <td>NaN</td>\n",
       "    </tr>\n",
       "    <tr>\n",
       "      <th>15</th>\n",
       "      <td>16/01/2017</td>\n",
       "      <td>NaN</td>\n",
       "      <td>NaN</td>\n",
       "    </tr>\n",
       "    <tr>\n",
       "      <th>16</th>\n",
       "      <td>17/01/2017</td>\n",
       "      <td>NaN</td>\n",
       "      <td>NaN</td>\n",
       "    </tr>\n",
       "    <tr>\n",
       "      <th>17</th>\n",
       "      <td>18/01/2017</td>\n",
       "      <td>NaN</td>\n",
       "      <td>0.0</td>\n",
       "    </tr>\n",
       "    <tr>\n",
       "      <th>18</th>\n",
       "      <td>19/01/2017</td>\n",
       "      <td>NaN</td>\n",
       "      <td>NaN</td>\n",
       "    </tr>\n",
       "    <tr>\n",
       "      <th>19</th>\n",
       "      <td>20/01/2017</td>\n",
       "      <td>NaN</td>\n",
       "      <td>4.0</td>\n",
       "    </tr>\n",
       "    <tr>\n",
       "      <th>20</th>\n",
       "      <td>21/01/2017</td>\n",
       "      <td>NaN</td>\n",
       "      <td>2.1</td>\n",
       "    </tr>\n",
       "    <tr>\n",
       "      <th>21</th>\n",
       "      <td>22/01/2017</td>\n",
       "      <td>NaN</td>\n",
       "      <td>0.0</td>\n",
       "    </tr>\n",
       "    <tr>\n",
       "      <th>22</th>\n",
       "      <td>23/01/2017</td>\n",
       "      <td>NaN</td>\n",
       "      <td>NaN</td>\n",
       "    </tr>\n",
       "    <tr>\n",
       "      <th>23</th>\n",
       "      <td>24/01/2017</td>\n",
       "      <td>NaN</td>\n",
       "      <td>NaN</td>\n",
       "    </tr>\n",
       "    <tr>\n",
       "      <th>24</th>\n",
       "      <td>25/01/2017</td>\n",
       "      <td>NaN</td>\n",
       "      <td>NaN</td>\n",
       "    </tr>\n",
       "    <tr>\n",
       "      <th>25</th>\n",
       "      <td>26/01/2017</td>\n",
       "      <td>NaN</td>\n",
       "      <td>0.3</td>\n",
       "    </tr>\n",
       "    <tr>\n",
       "      <th>26</th>\n",
       "      <td>27/01/2017</td>\n",
       "      <td>NaN</td>\n",
       "      <td>3.0</td>\n",
       "    </tr>\n",
       "    <tr>\n",
       "      <th>27</th>\n",
       "      <td>28/01/2017</td>\n",
       "      <td>NaN</td>\n",
       "      <td>NaN</td>\n",
       "    </tr>\n",
       "    <tr>\n",
       "      <th>28</th>\n",
       "      <td>29/01/2017</td>\n",
       "      <td>NaN</td>\n",
       "      <td>4.5</td>\n",
       "    </tr>\n",
       "    <tr>\n",
       "      <th>29</th>\n",
       "      <td>30/01/2017</td>\n",
       "      <td>NaN</td>\n",
       "      <td>0.1</td>\n",
       "    </tr>\n",
       "    <tr>\n",
       "      <th>...</th>\n",
       "      <td>...</td>\n",
       "      <td>...</td>\n",
       "      <td>...</td>\n",
       "    </tr>\n",
       "    <tr>\n",
       "      <th>335</th>\n",
       "      <td>02/12/2017</td>\n",
       "      <td>NaN</td>\n",
       "      <td>NaN</td>\n",
       "    </tr>\n",
       "    <tr>\n",
       "      <th>336</th>\n",
       "      <td>03/12/2017</td>\n",
       "      <td>NaN</td>\n",
       "      <td>4.0</td>\n",
       "    </tr>\n",
       "    <tr>\n",
       "      <th>337</th>\n",
       "      <td>04/12/2017</td>\n",
       "      <td>NaN</td>\n",
       "      <td>0.1</td>\n",
       "    </tr>\n",
       "    <tr>\n",
       "      <th>338</th>\n",
       "      <td>05/12/2017</td>\n",
       "      <td>NaN</td>\n",
       "      <td>0.1</td>\n",
       "    </tr>\n",
       "    <tr>\n",
       "      <th>339</th>\n",
       "      <td>06/12/2017</td>\n",
       "      <td>NaN</td>\n",
       "      <td>1.2</td>\n",
       "    </tr>\n",
       "    <tr>\n",
       "      <th>340</th>\n",
       "      <td>07/12/2017</td>\n",
       "      <td>NaN</td>\n",
       "      <td>NaN</td>\n",
       "    </tr>\n",
       "    <tr>\n",
       "      <th>341</th>\n",
       "      <td>08/12/2017</td>\n",
       "      <td>NaN</td>\n",
       "      <td>NaN</td>\n",
       "    </tr>\n",
       "    <tr>\n",
       "      <th>342</th>\n",
       "      <td>09/12/2017</td>\n",
       "      <td>NaN</td>\n",
       "      <td>NaN</td>\n",
       "    </tr>\n",
       "    <tr>\n",
       "      <th>343</th>\n",
       "      <td>10/12/2017</td>\n",
       "      <td>NaN</td>\n",
       "      <td>4.1</td>\n",
       "    </tr>\n",
       "    <tr>\n",
       "      <th>344</th>\n",
       "      <td>11/12/2017</td>\n",
       "      <td>NaN</td>\n",
       "      <td>NaN</td>\n",
       "    </tr>\n",
       "    <tr>\n",
       "      <th>345</th>\n",
       "      <td>12/12/2017</td>\n",
       "      <td>NaN</td>\n",
       "      <td>NaN</td>\n",
       "    </tr>\n",
       "    <tr>\n",
       "      <th>346</th>\n",
       "      <td>13/12/2017</td>\n",
       "      <td>NaN</td>\n",
       "      <td>NaN</td>\n",
       "    </tr>\n",
       "    <tr>\n",
       "      <th>347</th>\n",
       "      <td>14/12/2017</td>\n",
       "      <td>NaN</td>\n",
       "      <td>NaN</td>\n",
       "    </tr>\n",
       "    <tr>\n",
       "      <th>348</th>\n",
       "      <td>15/12/2017</td>\n",
       "      <td>NaN</td>\n",
       "      <td>0.0</td>\n",
       "    </tr>\n",
       "    <tr>\n",
       "      <th>349</th>\n",
       "      <td>16/12/2017</td>\n",
       "      <td>NaN</td>\n",
       "      <td>NaN</td>\n",
       "    </tr>\n",
       "    <tr>\n",
       "      <th>350</th>\n",
       "      <td>17/12/2017</td>\n",
       "      <td>NaN</td>\n",
       "      <td>NaN</td>\n",
       "    </tr>\n",
       "    <tr>\n",
       "      <th>351</th>\n",
       "      <td>18/12/2017</td>\n",
       "      <td>NaN</td>\n",
       "      <td>3.4</td>\n",
       "    </tr>\n",
       "    <tr>\n",
       "      <th>352</th>\n",
       "      <td>19/12/2017</td>\n",
       "      <td>NaN</td>\n",
       "      <td>NaN</td>\n",
       "    </tr>\n",
       "    <tr>\n",
       "      <th>353</th>\n",
       "      <td>20/12/2017</td>\n",
       "      <td>NaN</td>\n",
       "      <td>0.2</td>\n",
       "    </tr>\n",
       "    <tr>\n",
       "      <th>354</th>\n",
       "      <td>21/12/2017</td>\n",
       "      <td>NaN</td>\n",
       "      <td>NaN</td>\n",
       "    </tr>\n",
       "    <tr>\n",
       "      <th>355</th>\n",
       "      <td>22/12/2017</td>\n",
       "      <td>NaN</td>\n",
       "      <td>NaN</td>\n",
       "    </tr>\n",
       "    <tr>\n",
       "      <th>356</th>\n",
       "      <td>23/12/2017</td>\n",
       "      <td>NaN</td>\n",
       "      <td>NaN</td>\n",
       "    </tr>\n",
       "    <tr>\n",
       "      <th>357</th>\n",
       "      <td>24/12/2017</td>\n",
       "      <td>NaN</td>\n",
       "      <td>20.0</td>\n",
       "    </tr>\n",
       "    <tr>\n",
       "      <th>358</th>\n",
       "      <td>25/12/2017</td>\n",
       "      <td>NaN</td>\n",
       "      <td>NaN</td>\n",
       "    </tr>\n",
       "    <tr>\n",
       "      <th>359</th>\n",
       "      <td>26/12/2017</td>\n",
       "      <td>NaN</td>\n",
       "      <td>NaN</td>\n",
       "    </tr>\n",
       "    <tr>\n",
       "      <th>360</th>\n",
       "      <td>27/12/2017</td>\n",
       "      <td>NaN</td>\n",
       "      <td>NaN</td>\n",
       "    </tr>\n",
       "    <tr>\n",
       "      <th>361</th>\n",
       "      <td>28/12/2017</td>\n",
       "      <td>NaN</td>\n",
       "      <td>0.0</td>\n",
       "    </tr>\n",
       "    <tr>\n",
       "      <th>362</th>\n",
       "      <td>29/12/2017</td>\n",
       "      <td>NaN</td>\n",
       "      <td>0.0</td>\n",
       "    </tr>\n",
       "    <tr>\n",
       "      <th>363</th>\n",
       "      <td>30/12/2017</td>\n",
       "      <td>NaN</td>\n",
       "      <td>0.7</td>\n",
       "    </tr>\n",
       "    <tr>\n",
       "      <th>364</th>\n",
       "      <td>31/12/2017</td>\n",
       "      <td>NaN</td>\n",
       "      <td>1.0</td>\n",
       "    </tr>\n",
       "  </tbody>\n",
       "</table>\n",
       "<p>365 rows × 3 columns</p>\n",
       "</div>"
      ],
      "text/plain": [
       "             날짜  공백   강수량\n",
       "0    01/01/2017 NaN   NaN\n",
       "1    02/01/2017 NaN   0.3\n",
       "2    03/01/2017 NaN   NaN\n",
       "3    04/01/2017 NaN   NaN\n",
       "4    05/01/2017 NaN   NaN\n",
       "5    06/01/2017 NaN   NaN\n",
       "6    07/01/2017 NaN   NaN\n",
       "7    08/01/2017 NaN   0.0\n",
       "8    09/01/2017 NaN   0.0\n",
       "9    10/01/2017 NaN   NaN\n",
       "10   11/01/2017 NaN   NaN\n",
       "11   12/01/2017 NaN   0.0\n",
       "12   13/01/2017 NaN   0.6\n",
       "13   14/01/2017 NaN   NaN\n",
       "14   15/01/2017 NaN   NaN\n",
       "15   16/01/2017 NaN   NaN\n",
       "16   17/01/2017 NaN   NaN\n",
       "17   18/01/2017 NaN   0.0\n",
       "18   19/01/2017 NaN   NaN\n",
       "19   20/01/2017 NaN   4.0\n",
       "20   21/01/2017 NaN   2.1\n",
       "21   22/01/2017 NaN   0.0\n",
       "22   23/01/2017 NaN   NaN\n",
       "23   24/01/2017 NaN   NaN\n",
       "24   25/01/2017 NaN   NaN\n",
       "25   26/01/2017 NaN   0.3\n",
       "26   27/01/2017 NaN   3.0\n",
       "27   28/01/2017 NaN   NaN\n",
       "28   29/01/2017 NaN   4.5\n",
       "29   30/01/2017 NaN   0.1\n",
       "..          ...  ..   ...\n",
       "335  02/12/2017 NaN   NaN\n",
       "336  03/12/2017 NaN   4.0\n",
       "337  04/12/2017 NaN   0.1\n",
       "338  05/12/2017 NaN   0.1\n",
       "339  06/12/2017 NaN   1.2\n",
       "340  07/12/2017 NaN   NaN\n",
       "341  08/12/2017 NaN   NaN\n",
       "342  09/12/2017 NaN   NaN\n",
       "343  10/12/2017 NaN   4.1\n",
       "344  11/12/2017 NaN   NaN\n",
       "345  12/12/2017 NaN   NaN\n",
       "346  13/12/2017 NaN   NaN\n",
       "347  14/12/2017 NaN   NaN\n",
       "348  15/12/2017 NaN   0.0\n",
       "349  16/12/2017 NaN   NaN\n",
       "350  17/12/2017 NaN   NaN\n",
       "351  18/12/2017 NaN   3.4\n",
       "352  19/12/2017 NaN   NaN\n",
       "353  20/12/2017 NaN   0.2\n",
       "354  21/12/2017 NaN   NaN\n",
       "355  22/12/2017 NaN   NaN\n",
       "356  23/12/2017 NaN   NaN\n",
       "357  24/12/2017 NaN  20.0\n",
       "358  25/12/2017 NaN   NaN\n",
       "359  26/12/2017 NaN   NaN\n",
       "360  27/12/2017 NaN   NaN\n",
       "361  28/12/2017 NaN   0.0\n",
       "362  29/12/2017 NaN   0.0\n",
       "363  30/12/2017 NaN   0.7\n",
       "364  31/12/2017 NaN   1.0\n",
       "\n",
       "[365 rows x 3 columns]"
      ]
     },
     "execution_count": 47,
     "metadata": {},
     "output_type": "execute_result"
    }
   ],
   "source": [
    "sd['날짜'].replace('/', '-')\n",
    "sd['날짜']=sd['날짜'].replace('/', '-')\n",
    "sd"
   ]
  },
  {
   "cell_type": "code",
   "execution_count": 48,
   "metadata": {},
   "outputs": [
    {
     "name": "stdout",
     "output_type": "stream",
     "text": [
      "01/01/2017 nan\n",
      "02/01/2017 nan\n",
      "03/01/2017 nan\n",
      "04/01/2017 nan\n",
      "05/01/2017 nan\n",
      "06/01/2017 nan\n",
      "07/01/2017 nan\n",
      "08/01/2017 nan\n",
      "09/01/2017 nan\n",
      "10/01/2017 nan\n",
      "11/01/2017 nan\n",
      "12/01/2017 nan\n",
      "13/01/2017 nan\n",
      "14/01/2017 nan\n",
      "15/01/2017 nan\n",
      "16/01/2017 nan\n",
      "17/01/2017 nan\n",
      "18/01/2017 nan\n",
      "19/01/2017 nan\n",
      "20/01/2017 nan\n",
      "21/01/2017 nan\n",
      "22/01/2017 nan\n",
      "23/01/2017 nan\n",
      "24/01/2017 nan\n",
      "25/01/2017 nan\n",
      "26/01/2017 nan\n",
      "27/01/2017 nan\n",
      "28/01/2017 nan\n",
      "29/01/2017 nan\n",
      "30/01/2017 nan\n",
      "31/01/2017 nan\n",
      "01/02/2017 nan\n",
      "02/02/2017 nan\n",
      "03/02/2017 nan\n",
      "04/02/2017 nan\n",
      "05/02/2017 nan\n",
      "06/02/2017 nan\n",
      "07/02/2017 nan\n",
      "08/02/2017 nan\n",
      "09/02/2017 nan\n",
      "10/02/2017 nan\n",
      "11/02/2017 nan\n",
      "12/02/2017 nan\n",
      "13/02/2017 nan\n",
      "14/02/2017 nan\n",
      "15/02/2017 nan\n",
      "16/02/2017 nan\n",
      "17/02/2017 nan\n",
      "18/02/2017 nan\n",
      "19/02/2017 nan\n",
      "20/02/2017 nan\n",
      "21/02/2017 nan\n",
      "22/02/2017 nan\n",
      "23/02/2017 nan\n",
      "24/02/2017 nan\n",
      "25/02/2017 nan\n",
      "26/02/2017 nan\n",
      "27/02/2017 nan\n",
      "28/02/2017 nan\n",
      "01/03/2017 nan\n",
      "02/03/2017 nan\n",
      "03/03/2017 nan\n",
      "04/03/2017 nan\n",
      "05/03/2017 nan\n",
      "06/03/2017 nan\n",
      "07/03/2017 nan\n",
      "08/03/2017 nan\n",
      "09/03/2017 nan\n",
      "10/03/2017 nan\n",
      "11/03/2017 nan\n",
      "12/03/2017 nan\n",
      "13/03/2017 nan\n",
      "14/03/2017 nan\n",
      "15/03/2017 nan\n",
      "16/03/2017 nan\n",
      "17/03/2017 nan\n",
      "18/03/2017 nan\n",
      "19/03/2017 nan\n",
      "20/03/2017 nan\n",
      "21/03/2017 nan\n",
      "22/03/2017 nan\n",
      "23/03/2017 nan\n",
      "24/03/2017 nan\n",
      "25/03/2017 nan\n",
      "26/03/2017 nan\n",
      "27/03/2017 nan\n",
      "28/03/2017 nan\n",
      "29/03/2017 nan\n",
      "30/03/2017 nan\n",
      "31/03/2017 nan\n",
      "01/04/2017 nan\n",
      "02/04/2017 nan\n",
      "03/04/2017 nan\n",
      "04/04/2017 nan\n",
      "05/04/2017 nan\n",
      "06/04/2017 nan\n",
      "07/04/2017 nan\n",
      "08/04/2017 nan\n",
      "09/04/2017 nan\n",
      "10/04/2017 nan\n",
      "11/04/2017 nan\n",
      "12/04/2017 nan\n",
      "13/04/2017 nan\n",
      "14/04/2017 nan\n",
      "15/04/2017 nan\n",
      "16/04/2017 nan\n",
      "17/04/2017 nan\n",
      "18/04/2017 nan\n",
      "19/04/2017 nan\n",
      "20/04/2017 nan\n",
      "21/04/2017 nan\n",
      "22/04/2017 nan\n",
      "23/04/2017 nan\n",
      "24/04/2017 nan\n",
      "25/04/2017 nan\n",
      "26/04/2017 nan\n",
      "27/04/2017 nan\n",
      "28/04/2017 nan\n",
      "29/04/2017 nan\n",
      "30/04/2017 nan\n",
      "01/05/2017 nan\n",
      "02/05/2017 nan\n",
      "03/05/2017 nan\n",
      "04/05/2017 nan\n",
      "05/05/2017 nan\n",
      "06/05/2017 nan\n",
      "07/05/2017 nan\n",
      "08/05/2017 nan\n",
      "09/05/2017 nan\n",
      "10/05/2017 nan\n",
      "11/05/2017 nan\n",
      "12/05/2017 nan\n",
      "13/05/2017 nan\n",
      "14/05/2017 nan\n",
      "15/05/2017 nan\n",
      "16/05/2017 nan\n",
      "17/05/2017 nan\n",
      "18/05/2017 nan\n",
      "19/05/2017 nan\n",
      "20/05/2017 nan\n",
      "21/05/2017 nan\n",
      "22/05/2017 nan\n",
      "23/05/2017 nan\n",
      "24/05/2017 nan\n",
      "25/05/2017 nan\n",
      "26/05/2017 nan\n",
      "27/05/2017 nan\n",
      "28/05/2017 nan\n",
      "29/05/2017 nan\n",
      "30/05/2017 nan\n",
      "31/05/2017 nan\n",
      "01/06/2017 nan\n",
      "02/06/2017 nan\n",
      "03/06/2017 nan\n",
      "04/06/2017 nan\n",
      "05/06/2017 nan\n",
      "06/06/2017 nan\n",
      "07/06/2017 nan\n",
      "08/06/2017 nan\n",
      "09/06/2017 nan\n",
      "10/06/2017 nan\n",
      "11/06/2017 nan\n",
      "12/06/2017 nan\n",
      "13/06/2017 nan\n",
      "14/06/2017 nan\n",
      "15/06/2017 nan\n",
      "16/06/2017 nan\n",
      "17/06/2017 nan\n",
      "18/06/2017 nan\n",
      "19/06/2017 nan\n",
      "20/06/2017 nan\n",
      "21/06/2017 nan\n",
      "22/06/2017 nan\n",
      "23/06/2017 nan\n",
      "24/06/2017 nan\n",
      "25/06/2017 nan\n",
      "26/06/2017 nan\n",
      "27/06/2017 nan\n",
      "28/06/2017 nan\n",
      "29/06/2017 nan\n",
      "30/06/2017 nan\n",
      "01/07/2017 nan\n",
      "02/07/2017 nan\n",
      "03/07/2017 nan\n",
      "04/07/2017 nan\n",
      "05/07/2017 nan\n",
      "06/07/2017 nan\n",
      "07/07/2017 nan\n",
      "08/07/2017 nan\n",
      "09/07/2017 nan\n",
      "10/07/2017 nan\n",
      "11/07/2017 nan\n",
      "12/07/2017 nan\n",
      "13/07/2017 nan\n",
      "14/07/2017 nan\n",
      "15/07/2017 nan\n",
      "16/07/2017 nan\n",
      "17/07/2017 nan\n",
      "18/07/2017 nan\n",
      "19/07/2017 nan\n",
      "20/07/2017 nan\n",
      "21/07/2017 nan\n",
      "22/07/2017 nan\n",
      "23/07/2017 nan\n",
      "24/07/2017 nan\n",
      "25/07/2017 nan\n",
      "26/07/2017 nan\n",
      "27/07/2017 nan\n",
      "28/07/2017 nan\n",
      "29/07/2017 nan\n",
      "30/07/2017 nan\n",
      "31/07/2017 nan\n",
      "01/08/2017 nan\n",
      "02/08/2017 nan\n",
      "03/08/2017 nan\n",
      "04/08/2017 nan\n",
      "05/08/2017 nan\n",
      "06/08/2017 nan\n",
      "07/08/2017 nan\n",
      "08/08/2017 nan\n",
      "09/08/2017 nan\n",
      "10/08/2017 nan\n",
      "11/08/2017 nan\n",
      "12/08/2017 nan\n",
      "13/08/2017 nan\n",
      "14/08/2017 nan\n",
      "15/08/2017 nan\n",
      "16/08/2017 nan\n",
      "17/08/2017 nan\n",
      "18/08/2017 nan\n",
      "19/08/2017 nan\n",
      "20/08/2017 nan\n",
      "21/08/2017 nan\n",
      "22/08/2017 nan\n",
      "23/08/2017 nan\n",
      "24/08/2017 nan\n",
      "25/08/2017 nan\n",
      "26/08/2017 nan\n",
      "27/08/2017 nan\n",
      "28/08/2017 nan\n",
      "29/08/2017 nan\n",
      "30/08/2017 nan\n",
      "31/08/2017 nan\n",
      "01/09/2017 nan\n",
      "02/09/2017 nan\n",
      "03/09/2017 nan\n",
      "04/09/2017 nan\n",
      "05/09/2017 nan\n",
      "06/09/2017 nan\n",
      "07/09/2017 nan\n",
      "08/09/2017 nan\n",
      "09/09/2017 nan\n",
      "10/09/2017 nan\n",
      "11/09/2017 nan\n",
      "12/09/2017 nan\n",
      "13/09/2017 nan\n",
      "14/09/2017 nan\n",
      "15/09/2017 nan\n",
      "16/09/2017 nan\n",
      "17/09/2017 nan\n",
      "18/09/2017 nan\n",
      "19/09/2017 nan\n",
      "20/09/2017 nan\n",
      "21/09/2017 nan\n",
      "22/09/2017 nan\n",
      "23/09/2017 nan\n",
      "24/09/2017 nan\n",
      "25/09/2017 nan\n",
      "26/09/2017 nan\n",
      "27/09/2017 nan\n",
      "28/09/2017 nan\n",
      "29/09/2017 nan\n",
      "30/09/2017 nan\n",
      "01/10/2017 nan\n",
      "02/10/2017 nan\n",
      "03/10/2017 nan\n",
      "04/10/2017 nan\n",
      "05/10/2017 nan\n",
      "06/10/2017 nan\n",
      "07/10/2017 nan\n",
      "08/10/2017 nan\n",
      "09/10/2017 nan\n",
      "10/10/2017 nan\n",
      "11/10/2017 nan\n",
      "12/10/2017 nan\n",
      "13/10/2017 nan\n",
      "14/10/2017 nan\n",
      "15/10/2017 nan\n",
      "16/10/2017 nan\n",
      "17/10/2017 nan\n",
      "18/10/2017 nan\n",
      "19/10/2017 nan\n",
      "20/10/2017 nan\n",
      "21/10/2017 nan\n",
      "22/10/2017 nan\n",
      "23/10/2017 nan\n",
      "24/10/2017 nan\n",
      "25/10/2017 nan\n",
      "26/10/2017 nan\n",
      "27/10/2017 nan\n",
      "28/10/2017 nan\n",
      "29/10/2017 nan\n",
      "30/10/2017 nan\n",
      "31/10/2017 nan\n",
      "01/11/2017 nan\n",
      "02/11/2017 nan\n",
      "03/11/2017 nan\n",
      "04/11/2017 nan\n",
      "05/11/2017 nan\n",
      "06/11/2017 nan\n",
      "07/11/2017 nan\n",
      "08/11/2017 nan\n",
      "09/11/2017 nan\n",
      "10/11/2017 nan\n",
      "11/11/2017 nan\n",
      "12/11/2017 nan\n",
      "13/11/2017 nan\n",
      "14/11/2017 nan\n",
      "15/11/2017 nan\n",
      "16/11/2017 nan\n",
      "17/11/2017 nan\n",
      "18/11/2017 nan\n",
      "19/11/2017 nan\n",
      "20/11/2017 nan\n",
      "21/11/2017 nan\n",
      "22/11/2017 nan\n",
      "23/11/2017 nan\n",
      "24/11/2017 nan\n",
      "25/11/2017 nan\n",
      "26/11/2017 nan\n",
      "27/11/2017 nan\n",
      "28/11/2017 nan\n",
      "29/11/2017 nan\n",
      "30/11/2017 nan\n",
      "01/12/2017 nan\n",
      "02/12/2017 nan\n",
      "03/12/2017 nan\n",
      "04/12/2017 nan\n",
      "05/12/2017 nan\n",
      "06/12/2017 nan\n",
      "07/12/2017 nan\n",
      "08/12/2017 nan\n",
      "09/12/2017 nan\n",
      "10/12/2017 nan\n",
      "11/12/2017 nan\n",
      "12/12/2017 nan\n",
      "13/12/2017 nan\n",
      "14/12/2017 nan\n",
      "15/12/2017 nan\n",
      "16/12/2017 nan\n",
      "17/12/2017 nan\n",
      "18/12/2017 nan\n",
      "19/12/2017 nan\n",
      "20/12/2017 nan\n",
      "21/12/2017 nan\n",
      "22/12/2017 nan\n",
      "23/12/2017 nan\n",
      "24/12/2017 nan\n",
      "25/12/2017 nan\n",
      "26/12/2017 nan\n",
      "27/12/2017 nan\n",
      "28/12/2017 nan\n",
      "29/12/2017 nan\n",
      "30/12/2017 nan\n",
      "31/12/2017 nan\n"
     ]
    }
   ],
   "source": [
    "for e1, e2 in zip(sd['날짜'], sd['공백']):\n",
    "    print(e1, e2)"
   ]
  },
  {
   "cell_type": "code",
   "execution_count": 53,
   "metadata": {},
   "outputs": [
    {
     "name": "stdout",
     "output_type": "stream",
     "text": [
      "A\n",
      "B\n",
      "C\n",
      "D\n"
     ]
    }
   ],
   "source": [
    "for row in df.iterrows():\n",
    "    print(row[1]['name'])"
   ]
  },
  {
   "cell_type": "code",
   "execution_count": 56,
   "metadata": {},
   "outputs": [],
   "source": [
    "sd.to_csv('./new.csv')"
   ]
  },
  {
   "cell_type": "code",
   "execution_count": null,
   "metadata": {},
   "outputs": [],
   "source": []
  },
  {
   "cell_type": "code",
   "execution_count": 1,
   "metadata": {},
   "outputs": [
    {
     "ename": "NameError",
     "evalue": "name 'pd' is not defined",
     "output_type": "error",
     "traceback": [
      "\u001b[0;31m---------------------------------------------------------------------------\u001b[0m",
      "\u001b[0;31mNameError\u001b[0m                                 Traceback (most recent call last)",
      "\u001b[0;32m<ipython-input-1-77d96c88c3c6>\u001b[0m in \u001b[0;36m<module>\u001b[0;34m\u001b[0m\n\u001b[0;32m----> 1\u001b[0;31m \u001b[0mtype\u001b[0m\u001b[0;34m(\u001b[0m\u001b[0mpd\u001b[0m\u001b[0;34m)\u001b[0m\u001b[0;34m\u001b[0m\u001b[0;34m\u001b[0m\u001b[0m\n\u001b[0m",
      "\u001b[0;31mNameError\u001b[0m: name 'pd' is not defined"
     ]
    }
   ],
   "source": [
    "type(pd)"
   ]
  },
  {
   "cell_type": "code",
   "execution_count": 15,
   "metadata": {},
   "outputs": [
    {
     "name": "stdout",
     "output_type": "stream",
     "text": [
      "Name is changed from dog-name to New_Dog\n",
      "<__main__.Dog object at 0x1084d4128>\n",
      "New_Dog\n"
     ]
    }
   ],
   "source": [
    "class Dog:\n",
    "    name = ''\n",
    "    age = ''\n",
    "    \n",
    "    def __init__(self):\n",
    "        self.name = 'dog-name'\n",
    "        self.age = 'dog-age'\n",
    "    \n",
    "    def get_nothackable(self):\n",
    "        return self.name\n",
    "    \n",
    "    def set_nothackable(self):\n",
    "        self.name = 'Dog-Name'\n",
    "    \n",
    "    def change_name(self, new_name):\n",
    "        old_name = self.name\n",
    "        self.name = new_name\n",
    "        print('Name is changed from {} to {}'.format(old_name, new_name))\n",
    "\n",
    "v=Dog()\n",
    "v.change_name('New_Dog')\n",
    "\n",
    "print(v)\n",
    "print(v.get_nothackable())"
   ]
  },
  {
   "cell_type": "code",
   "execution_count": 41,
   "metadata": {},
   "outputs": [
    {
     "name": "stdout",
     "output_type": "stream",
     "text": [
      "{'apple': 'great', 'banana': 'bad', 'fish': 'not bad'}\n"
     ]
    }
   ],
   "source": [
    "from collections import defaultdict\n",
    "\n",
    "class Cat:\n",
    "    name = ''\n",
    "    brain = {}\n",
    "    \n",
    "    def eat(self, food, taste):\n",
    "        self.brain[food] = taste\n",
    "        \n",
    "#     def eat_many(self, foods, tastes):\n",
    "#         for n in range(0, len(foods)):\n",
    "#             self.brain[foods[n]]=tastes[n]\n",
    "\n",
    "        \n",
    "    def eat_many(self, foods, tastes):\n",
    "        for food, taste in zip(foods, tastes):\n",
    "            self.eat(food, taste)\n",
    "#             self.brain[food]=taste\n",
    "\n",
    "            \n",
    "foods=['apple', 'banana', 'fish', 'apple']\n",
    "tastes=['good', 'bad', 'not bad', 'great']\n",
    "\n",
    "v = Cat()\n",
    "v.eat_many(foods, tastes)\n",
    "print(v.brain)"
   ]
  },
  {
   "cell_type": "code",
   "execution_count": 46,
   "metadata": {},
   "outputs": [
    {
     "name": "stdout",
     "output_type": "stream",
     "text": [
      "/bin/sh: ll: command not found\n"
     ]
    }
   ],
   "source": [
    "# linux command\n",
    "\n",
    "# !ls\n",
    "# !ls -a\n",
    "\n"
   ]
  },
  {
   "cell_type": "code",
   "execution_count": null,
   "metadata": {},
   "outputs": [],
   "source": []
  }
 ],
 "metadata": {
  "kernelspec": {
   "display_name": "Python 3",
   "language": "python",
   "name": "python3"
  },
  "language_info": {
   "codemirror_mode": {
    "name": "ipython",
    "version": 3
   },
   "file_extension": ".py",
   "mimetype": "text/x-python",
   "name": "python",
   "nbconvert_exporter": "python",
   "pygments_lexer": "ipython3",
   "version": "3.7.3"
  }
 },
 "nbformat": 4,
 "nbformat_minor": 4
}
