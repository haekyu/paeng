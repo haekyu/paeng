{
 "cells": [
  {
   "cell_type": "markdown",
   "metadata": {},
   "source": [
    "## 파일 읽고 쓰기\n",
    "    - 기본1 (파일 객체 버전1)\n",
    "    - 기본2 (파일 객체 버전2)\n",
    "- 파일 객체\n",
    "    1. 파일 객체 만들기\n",
    "        ```python\n",
    "            # 파일을 열어 f라는 파일 객체를 만든다.\n",
    "            f = open(파일 경로, mode=...)\n",
    "        ```\n",
    "        - 파일 경로 \n",
    "            - 절대경로\n",
    "                - 서울특별시 관악구 신림동 서울대학교 ...\n",
    "                - 예) `/Users/haekyu/Downloads/python_tutoring_ms/0601`\n",
    "            - 상대경로\n",
    "                - 내 위치에서 오른쪽으로 한 칸\n",
    "                - .: 현재 위치\n",
    "                - ..: 상위 경로\n",
    "                - 하위 경로는 이름을 그냥 쓰면 됨\n",
    "        - mode: \n",
    "            - 'r' : read\n",
    "            - 'w' : write\n",
    "            - 'a' : append\n",
    "    2. 파일 읽기 (mode='r' 인 경우)\n",
    "        - 한방에 읽어오기\n",
    "            - `readlines()` 함수 사용\n",
    "            - 예)\n",
    "                ```python\n",
    "                f = open('sample.txt', mode='r')\n",
    "                lst = f.readlines()\n",
    "                f.close()\n",
    "                ```\n",
    "        - 한 라인씩 읽어오기\n",
    "            - `readline()` 함수 사용\n",
    "            - EOF (End of file) 에 닿을 때까지 무한 루프로 읽음\n",
    "            - 예)\n",
    "                ```python\n",
    "                f = open('sample.txt', mode='r')\n",
    "                while True:\n",
    "                    line = f.readline()\n",
    "                    print(line)\n",
    "                    if line == '':\n",
    "                        break\n",
    "                f.close()\n",
    "                ```\n",
    "    3. 파일 쓰기 (mode='w' 혹은 mode='a' 인 경우)\n",
    "        - `write(원하는 스트링)` 함수 사용\n",
    "        - Newline(엔터) 를 넣고싶으면 '\\n' 을 추가\n",
    "        - 예)\n",
    "            ```python\n",
    "            f = open('sample.txt', mode='w')\n",
    "            f.write('A\\n')\n",
    "            f.write('B\\n')\n",
    "            f.write('C\\n')\n",
    "            f.write('D\\n')\n",
    "            f.write('E')\n",
    "            f.close()\n",
    "            ```\n",
    "    4. 파일 닫기\n",
    "        - `close()` 함수 사용\n",
    "        - 반드시 닫아줘야함!!!!! 안그러면 다른 프로세스가 해당 파일을 열 때 뭔가 꼬여버림.\n"
   ]
  },
  {
   "cell_type": "markdown",
   "metadata": {},
   "source": [
    "## Class\n",
    "\n",
    "- Constructor\n",
    "- Attributes (Fields)\n",
    "- Functions"
   ]
  },
  {
   "cell_type": "code",
   "execution_count": 13,
   "metadata": {},
   "outputs": [
    {
     "name": "stdout",
     "output_type": "stream",
     "text": [
      "Cat is born\n",
      "Name is changed from cat-name to V\n",
      "{'apple': 'good'}\n",
      "V\n"
     ]
    }
   ],
   "source": [
    "class Cat:\n",
    "    # Attributes\n",
    "    name = ''\n",
    "    brain = {}\n",
    "    \n",
    "\n",
    "    def __init__(self):\n",
    "        self.name = 'cat-name'\n",
    "        # self.brain['apple'] = 'good'\n",
    "        print('Cat is born')\n",
    "        \n",
    "    # Get 류 함수\n",
    "    def get_name(self):\n",
    "        return self.name\n",
    "    \n",
    "    # Set 류 함수\n",
    "    def set_name(self, new_name):\n",
    "        old_name = self.get_name()\n",
    "        self.name = new_name\n",
    "        print('Name is changed from {} to {}'.format(old_name, new_name))\n",
    "        \n",
    "    # 그 외\n",
    "    def eat(self, food, taste):\n",
    "        self.brain[food] = taste\n",
    "        \n",
    "    def eat_many(self, foods, tastes):\n",
    "        \n",
    "        # foods = ['apple', 'banana', 'fish', 'water', 'apple']\n",
    "        # tastes = ['good', 'bad', 'not bad', 'great', 'great']\n",
    "        # ???\n",
    "        for food, taste in zip(foods, tastes):\n",
    "            # self.brain[food] = taste\n",
    "            ???\n",
    "\n",
    "\n",
    "foods = ['apple', 'banana', 'fish', 'water', 'apple']\n",
    "tastes = ['good', 'bad', 'not bad', 'great', 'great']\n",
    "\n",
    "v = Cat()\n",
    "v.set_name('V')\n",
    "v.eat_many(foods, tastes)\n",
    "print(v.brain)\n",
    "print(v.get_name())"
   ]
  },
  {
   "cell_type": "code",
   "execution_count": 15,
   "metadata": {},
   "outputs": [
    {
     "name": "stdout",
     "output_type": "stream",
     "text": [
      "None\n"
     ]
    }
   ],
   "source": [
    "lst = [1, 2, 3, 5]\n",
    "lst = lst.append(3)\n",
    "print(lst)\n",
    "\n",
    "# class list:\n",
    "#     mylist = ...?\n",
    "    \n",
    "#     def append(self, x):\n",
    "#         self.mylist 뒷부분에 x를 붙이는?\n",
    "\n",
    "#         return None\n"
   ]
  },
  {
   "cell_type": "code",
   "execution_count": null,
   "metadata": {},
   "outputs": [],
   "source": [
    "for e1, e2 in zip(lst1, lst2):\n",
    "    ...\n",
    "    "
   ]
  },
  {
   "cell_type": "code",
   "execution_count": null,
   "metadata": {},
   "outputs": [],
   "source": [
    "# Dictionary\n",
    "- d = {}\n",
    "- d = defaultdict(lambda: ?)\n",
    "\n",
    "# 검색\n",
    "- d[key]\n",
    "- d.get(key, ?)\n",
    "\n",
    "# 수정\n",
    "- d[key] = ?\n",
    "    - 예) d[key] = d[key] + 1 \n",
    "\n",
    "# 추가\n",
    "- d[new_key] = new_val"
   ]
  },
  {
   "cell_type": "code",
   "execution_count": null,
   "metadata": {},
   "outputs": [],
   "source": []
  },
  {
   "cell_type": "code",
   "execution_count": null,
   "metadata": {},
   "outputs": [],
   "source": [
    "defaultdict(lambda: x)"
   ]
  },
  {
   "cell_type": "code",
   "execution_count": null,
   "metadata": {},
   "outputs": [],
   "source": []
  },
  {
   "cell_type": "code",
   "execution_count": null,
   "metadata": {},
   "outputs": [],
   "source": [
    "- 파일 읽고 쓰기\n",
    "- pandas\n",
    "    - parallel data (spread sheet)\n",
    "\n",
    "- numpy\n",
    "- class\n"
   ]
  },
  {
   "cell_type": "code",
   "execution_count": null,
   "metadata": {},
   "outputs": [],
   "source": [
    "- class\n",
    "- linux command\n",
    "- git"
   ]
  },
  {
   "cell_type": "markdown",
   "metadata": {},
   "source": [
    "- ls\n",
    "    - ls -a\n",
    "    - ls -l\n",
    "    - ls -al\n",
    "    - ls -G\n",
    "- pwd\n",
    "- cd\n",
    "    - cd ??\n",
    "    - cd ~\n",
    "- mkdir\n",
    "    - mkdir path\n",
    "- cp\n",
    "    - cp from to\n",
    "    - cp path desktop/new.png\n",
    "    - cp -r from to\n",
    "- mv\n",
    "    - mv from to\n",
    "    - mv -r (X)\n",
    "- clear"
   ]
  },
  {
   "cell_type": "code",
   "execution_count": null,
   "metadata": {},
   "outputs": [],
   "source": [
    "- git status \n",
    "- git add ??\n",
    "    - git add .\n",
    "- git commit -m \"???\""
   ]
  },
  {
   "cell_type": "code",
   "execution_count": null,
   "metadata": {},
   "outputs": [],
   "source": [
    "- vim\n",
    "    - 에디터\n",
    "    - "
   ]
  },
  {
   "cell_type": "code",
   "execution_count": 35,
   "metadata": {},
   "outputs": [
    {
     "name": "stdout",
     "output_type": "stream",
     "text": [
      "abc\n",
      "\n",
      "def\n",
      "\n",
      "ghi\n",
      "\n",
      "['abc\\n', 'def\\n', 'ghi']\n"
     ]
    }
   ],
   "source": [
    "# 기본 1\n",
    "f = open('./untitled.txt', 'r')\n",
    "# read\n",
    "lines = f.readlines()\n",
    "while True:\n",
    "    line = f.readline()\n",
    "    print(line)\n",
    "    if line == '':\n",
    "        break\n",
    "\n",
    "f.close()\n",
    "print(lines)\n"
   ]
  },
  {
   "cell_type": "code",
   "execution_count": 36,
   "metadata": {},
   "outputs": [
    {
     "name": "stdout",
     "output_type": "stream",
     "text": [
      "['abc\\n', 'def\\n', 'ghi']\n"
     ]
    }
   ],
   "source": [
    "# 기본 2\n",
    "with open('./untitled.txt', 'r') as f:\n",
    "    lines = f.readlines()\n",
    "print(lines)"
   ]
  },
  {
   "cell_type": "markdown",
   "metadata": {},
   "source": [
    "# Pandas\n",
    "\n",
    "- Pandas.DataFrame\n",
    "    == spread sheet\n",
    "- df = pd.read_csv(path)\n",
    "- df.to_csv(path, sep='\\t')"
   ]
  },
  {
   "cell_type": "code",
   "execution_count": null,
   "metadata": {},
   "outputs": [],
   "source": [
    "pd.read_csv(path, names=[])\n",
    "\n",
    "sd.head()"
   ]
  },
  {
   "cell_type": "code",
   "execution_count": 39,
   "metadata": {},
   "outputs": [],
   "source": [
    "d = {\n",
    "        'name': ['A', 'B', 'C', 'D'],\n",
    "        'address': [1, 1, 3, 44],\n",
    "        'age': [11, 22, 33, 44]\n",
    "    }"
   ]
  },
  {
   "cell_type": "code",
   "execution_count": 61,
   "metadata": {},
   "outputs": [
    {
     "data": {
      "text/html": [
       "<div>\n",
       "<style scoped>\n",
       "    .dataframe tbody tr th:only-of-type {\n",
       "        vertical-align: middle;\n",
       "    }\n",
       "\n",
       "    .dataframe tbody tr th {\n",
       "        vertical-align: top;\n",
       "    }\n",
       "\n",
       "    .dataframe thead th {\n",
       "        text-align: right;\n",
       "    }\n",
       "</style>\n",
       "<table border=\"1\" class=\"dataframe\">\n",
       "  <thead>\n",
       "    <tr style=\"text-align: right;\">\n",
       "      <th></th>\n",
       "      <th>name</th>\n",
       "      <th>address</th>\n",
       "      <th>age</th>\n",
       "    </tr>\n",
       "  </thead>\n",
       "  <tbody>\n",
       "    <tr>\n",
       "      <th>0</th>\n",
       "      <td>A</td>\n",
       "      <td>1</td>\n",
       "      <td>11</td>\n",
       "    </tr>\n",
       "    <tr>\n",
       "      <th>1</th>\n",
       "      <td>B</td>\n",
       "      <td>2</td>\n",
       "      <td>22</td>\n",
       "    </tr>\n",
       "    <tr>\n",
       "      <th>2</th>\n",
       "      <td>C</td>\n",
       "      <td>3</td>\n",
       "      <td>33</td>\n",
       "    </tr>\n",
       "    <tr>\n",
       "      <th>3</th>\n",
       "      <td>D</td>\n",
       "      <td>44</td>\n",
       "      <td>44</td>\n",
       "    </tr>\n",
       "  </tbody>\n",
       "</table>\n",
       "</div>"
      ],
      "text/plain": [
       "  name  address  age\n",
       "0    A        1   11\n",
       "1    B        2   22\n",
       "2    C        3   33\n",
       "3    D       44   44"
      ]
     },
     "execution_count": 61,
     "metadata": {},
     "output_type": "execute_result"
    }
   ],
   "source": [
    "import pandas as pd\n",
    "\n",
    "df = pd.DataFrame(d)\n",
    "df['age'].astype(str)\n",
    "df['age'] = df['age'].replace('0', '-')\n",
    "df\n",
    "\n",
    "# '12/08/2019'.replace('/', '-')\n",
    "# 'dd/mm/yyyy' --> 'dd-mm-yyyy'\n",
    "# # groupby \n",
    "# # df.groupby('address').max()"
   ]
  },
  {
   "cell_type": "code",
   "execution_count": 62,
   "metadata": {},
   "outputs": [
    {
     "ename": "SyntaxError",
     "evalue": "invalid syntax (<ipython-input-62-40f323f07503>, line 1)",
     "output_type": "error",
     "traceback": [
      "\u001b[0;36m  File \u001b[0;32m\"<ipython-input-62-40f323f07503>\"\u001b[0;36m, line \u001b[0;32m1\u001b[0m\n\u001b[0;31m    for e1, e2 in zip(df['address'], df['age'])\u001b[0m\n\u001b[0m                                               ^\u001b[0m\n\u001b[0;31mSyntaxError\u001b[0m\u001b[0;31m:\u001b[0m invalid syntax\n"
     ]
    }
   ],
   "source": [
    "# for e1, e2 in zip(df['address'], df['age']):\n",
    "#     print(e1, e2)"
   ]
  },
  {
   "cell_type": "code",
   "execution_count": 66,
   "metadata": {},
   "outputs": [
    {
     "name": "stdout",
     "output_type": "stream",
     "text": [
      "A\n",
      "B\n",
      "C\n",
      "D\n"
     ]
    }
   ],
   "source": [
    "for row in df.iterrows():\n",
    "    print(row[1]['name'])"
   ]
  },
  {
   "cell_type": "code",
   "execution_count": 57,
   "metadata": {},
   "outputs": [
    {
     "data": {
      "text/plain": [
       "'12-08-2019'"
      ]
     },
     "execution_count": 57,
     "metadata": {},
     "output_type": "execute_result"
    }
   ],
   "source": [
    "# string\n",
    "\n",
    "# sss.replace('?', '???')\n",
    "\n",
    "'12/08/2019'.replace('/', '-')"
   ]
  },
  {
   "cell_type": "code",
   "execution_count": 48,
   "metadata": {},
   "outputs": [
    {
     "data": {
      "text/html": [
       "<div>\n",
       "<style scoped>\n",
       "    .dataframe tbody tr th:only-of-type {\n",
       "        vertical-align: middle;\n",
       "    }\n",
       "\n",
       "    .dataframe tbody tr th {\n",
       "        vertical-align: top;\n",
       "    }\n",
       "\n",
       "    .dataframe thead th {\n",
       "        text-align: right;\n",
       "    }\n",
       "</style>\n",
       "<table border=\"1\" class=\"dataframe\">\n",
       "  <thead>\n",
       "    <tr style=\"text-align: right;\">\n",
       "      <th></th>\n",
       "      <th>name</th>\n",
       "      <th>address</th>\n",
       "      <th>age</th>\n",
       "    </tr>\n",
       "  </thead>\n",
       "  <tbody>\n",
       "    <tr>\n",
       "      <th>0</th>\n",
       "      <td>A</td>\n",
       "      <td>1</td>\n",
       "      <td>11</td>\n",
       "    </tr>\n",
       "    <tr>\n",
       "      <th>1</th>\n",
       "      <td>B</td>\n",
       "      <td>2</td>\n",
       "      <td>22</td>\n",
       "    </tr>\n",
       "  </tbody>\n",
       "</table>\n",
       "</div>"
      ],
      "text/plain": [
       "  name  address  age\n",
       "0    A        1   11\n",
       "1    B        2   22"
      ]
     },
     "execution_count": 48,
     "metadata": {},
     "output_type": "execute_result"
    }
   ],
   "source": [
    "df['name'][2]\n",
    "\n",
    "df[0: 2]"
   ]
  },
  {
   "cell_type": "code",
   "execution_count": 3,
   "metadata": {},
   "outputs": [],
   "source": [
    "def get_1st_alpha(w):\n",
    "    return w[0]"
   ]
  },
  {
   "cell_type": "code",
   "execution_count": 32,
   "metadata": {},
   "outputs": [
    {
     "name": "stdout",
     "output_type": "stream",
     "text": [
      "{'a': ['apple', 'aurora'], 'b': ['bear', 'boy'], 'p': ['person', 'print']}\n"
     ]
    }
   ],
   "source": [
    "#Dictionary 연습\n",
    "\n",
    "word_lst = [\"apple\", \"bear\", \"person\", \"aurora\", \"print\", \"boy\"]\n",
    "\n",
    "\n",
    "def classify_words(word_lst):\n",
    "    \n",
    "    # Initialize\n",
    "    classifier = {}\n",
    "    for word in word_lst:\n",
    "        fst = get_1st_alpha(word)\n",
    "        classifier[fst] = []\n",
    "    \n",
    "    for word in word_lst:\n",
    "        fst = get_1st_alpha(word)\n",
    "        classifier[fst].append(word)\n",
    "\n",
    "    return classifier\n",
    "\n",
    "\n",
    "def classify_words(word_lst):\n",
    "    classifier = {}\n",
    "    for word in word_lst:\n",
    "        fst = get_1st_alpha(word)\n",
    "        prev_word_lst = classifier.get(fst, [])\n",
    "        prev_word_lst.append(word)\n",
    "        classifier[fst] = prev_word_lst\n",
    "\n",
    "    return classifier\n",
    "\n",
    "\n",
    "        \n",
    "print(classify_words(word_lst))"
   ]
  },
  {
   "cell_type": "code",
   "execution_count": 29,
   "metadata": {},
   "outputs": [
    {
     "data": {
      "text/plain": [
       "0"
      ]
     },
     "execution_count": 29,
     "metadata": {},
     "output_type": "execute_result"
    }
   ],
   "source": [
    "from collections import defaultdict\n",
    "\n",
    "dd = defaultdict(lambda: 0)\n",
    "\n",
    "dd[4000]"
   ]
  },
  {
   "cell_type": "code",
   "execution_count": 26,
   "metadata": {},
   "outputs": [
    {
     "ename": "KeyError",
     "evalue": "'a'",
     "output_type": "error",
     "traceback": [
      "\u001b[0;31m---------------------------------------------------------------------------\u001b[0m",
      "\u001b[0;31mKeyError\u001b[0m                                  Traceback (most recent call last)",
      "\u001b[0;32m<ipython-input-26-4ddc50b94ffc>\u001b[0m in \u001b[0;36m<module>\u001b[0;34m\u001b[0m\n\u001b[1;32m      1\u001b[0m \u001b[0md\u001b[0m \u001b[0;34m=\u001b[0m \u001b[0;34m{\u001b[0m\u001b[0;34m}\u001b[0m\u001b[0;34m\u001b[0m\u001b[0;34m\u001b[0m\u001b[0m\n\u001b[0;32m----> 2\u001b[0;31m \u001b[0md\u001b[0m\u001b[0;34m[\u001b[0m\u001b[0;34m'a'\u001b[0m\u001b[0;34m]\u001b[0m\u001b[0;34m\u001b[0m\u001b[0;34m\u001b[0m\u001b[0m\n\u001b[0m",
      "\u001b[0;31mKeyError\u001b[0m: 'a'"
     ]
    }
   ],
   "source": [
    "d = {}\n",
    "d['a']"
   ]
  },
  {
   "cell_type": "code",
   "execution_count": null,
   "metadata": {},
   "outputs": [],
   "source": []
  }
 ],
 "metadata": {
  "kernelspec": {
   "display_name": "Python 3",
   "language": "python",
   "name": "python3"
  },
  "language_info": {
   "codemirror_mode": {
    "name": "ipython",
    "version": 3
   },
   "file_extension": ".py",
   "mimetype": "text/x-python",
   "name": "python",
   "nbconvert_exporter": "python",
   "pygments_lexer": "ipython3",
   "version": "3.6.7"
  }
 },
 "nbformat": 4,
 "nbformat_minor": 2
}
